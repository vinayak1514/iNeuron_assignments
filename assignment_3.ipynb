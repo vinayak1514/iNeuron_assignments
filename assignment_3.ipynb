{
 "cells": [
  {
   "cell_type": "markdown",
   "id": "e46da669",
   "metadata": {},
   "source": [
    "## Python basic assignment 3"
   ]
  },
  {
   "cell_type": "markdown",
   "id": "316ed458",
   "metadata": {},
   "source": [
    "#### QUE 1 Why are functions advantageous to have in your programs?"
   ]
  },
  {
   "cell_type": "markdown",
   "id": "2e0a4564",
   "metadata": {},
   "source": [
    "#### ANS\n",
    "* Improved reusability of code\n",
    "* Educing duplication of code.\n",
    "* Write Clearer Code\n",
    "* Bigger problems are broken down into smaller problems\n",
    "* Save time "
   ]
  },
  {
   "cell_type": "markdown",
   "id": "f8db4fec",
   "metadata": {},
   "source": [
    "## QUE 2. When does the code in a function run: when it's specified or when it's called?"
   ]
  },
  {
   "cell_type": "markdown",
   "id": "a5f35f4b",
   "metadata": {},
   "source": [
    "#### ANS\n",
    "Code in a function executes when it's called not when it specified"
   ]
  },
  {
   "cell_type": "markdown",
   "id": "bb68f633",
   "metadata": {},
   "source": [
    "## QUE 3. What statement creates a function?"
   ]
  },
  {
   "cell_type": "markdown",
   "id": "af7331a4",
   "metadata": {},
   "source": [
    "#### ANS\n",
    "def keyword creates a function"
   ]
  },
  {
   "cell_type": "markdown",
   "id": "57517409",
   "metadata": {},
   "source": [
    "## QUE 4. What is the difference between a function and a function call?"
   ]
  },
  {
   "cell_type": "markdown",
   "id": "c5db4361",
   "metadata": {},
   "source": [
    "#### ANS\n",
    "* A function consists of the def statement and the code in its def clause.\n",
    "\n",
    "* A function call is what moves the program execution into the function,\n",
    "and the function call evaluates to the function's return value."
   ]
  },
  {
   "cell_type": "markdown",
   "id": "08de967a",
   "metadata": {},
   "source": [
    "## QUE 5. How many global scopes are there in a Python program? How many local scopes?"
   ]
  },
  {
   "cell_type": "markdown",
   "id": "56c3c140",
   "metadata": {},
   "source": [
    "#### ANS\n",
    "There is one global scope, and a local scope is created whenever a function is called."
   ]
  },
  {
   "cell_type": "markdown",
   "id": "c3bd4d69",
   "metadata": {},
   "source": [
    "## QUE 6 . What happens to variables in a local scope when the function call returns?"
   ]
  },
  {
   "cell_type": "markdown",
   "id": "1c2549e4",
   "metadata": {},
   "source": [
    "#### ANS \n",
    "When a function call returns in Python, the local scope of that function is destroyed, and the variables defined within that scope case to exist. This process is known as the \"cleanup\" or \"destruction\" of the local scope."
   ]
  },
  {
   "cell_type": "code",
   "execution_count": 1,
   "id": "be232271",
   "metadata": {},
   "outputs": [
    {
     "name": "stdout",
     "output_type": "stream",
     "text": [
      "340\n"
     ]
    }
   ],
   "source": [
    "def add_num():\n",
    "    x = 120\n",
    "    y = 220\n",
    "    result = x + y\n",
    "    return result\n",
    "\n",
    "output = add_num()\n",
    "print(output)"
   ]
  },
  {
   "cell_type": "code",
   "execution_count": 2,
   "id": "3888a82f",
   "metadata": {},
   "outputs": [
    {
     "ename": "NameError",
     "evalue": "name 'x' is not defined",
     "output_type": "error",
     "traceback": [
      "\u001b[1;31m---------------------------------------------------------------------------\u001b[0m",
      "\u001b[1;31mNameError\u001b[0m                                 Traceback (most recent call last)",
      "Input \u001b[1;32mIn [2]\u001b[0m, in \u001b[0;36m<cell line: 1>\u001b[1;34m()\u001b[0m\n\u001b[1;32m----> 1\u001b[0m \u001b[38;5;28mprint\u001b[39m(\u001b[43mx\u001b[49m)\n",
      "\u001b[1;31mNameError\u001b[0m: name 'x' is not defined"
     ]
    }
   ],
   "source": [
    "print(x)"
   ]
  },
  {
   "cell_type": "markdown",
   "id": "bb92bcae",
   "metadata": {},
   "source": [
    "when the add_num() function is called, it creates variables x, y, and result within its local scope. After the function call returns and the local scope is destroyed, these variables are no longer accessible, and trying to access them outside the function results in a NameError."
   ]
  },
  {
   "cell_type": "markdown",
   "id": "e1772ce1",
   "metadata": {},
   "source": [
    "## QUE 7. What is the concept of a return value? Is it possible to have a return value in an expression?"
   ]
  },
  {
   "cell_type": "markdown",
   "id": "a124f0f5",
   "metadata": {},
   "source": [
    "#### ANS"
   ]
  },
  {
   "cell_type": "markdown",
   "id": "ada9ed11",
   "metadata": {},
   "source": [
    "## QUE 8 . If a function does not have a return statement, what is the return value of a call to that function?"
   ]
  },
  {
   "cell_type": "markdown",
   "id": "803afb4c",
   "metadata": {},
   "source": [
    "#### ANS\n",
    "If a function doesn't have a return statement, its return value is none."
   ]
  },
  {
   "cell_type": "markdown",
   "id": "ace5a019",
   "metadata": {},
   "source": [
    "## QUE 9 .  How do you make a function variable refer to the global variable?"
   ]
  },
  {
   "cell_type": "markdown",
   "id": "3284bedc",
   "metadata": {},
   "source": [
    "#### ANS\n",
    "when we create a variable inside a function, that variable is local, and can only be used inside that function.\n",
    "To create a global variable inside a function, we can use the global keyword."
   ]
  },
  {
   "cell_type": "markdown",
   "id": "8a00f3df",
   "metadata": {},
   "source": [
    "##  QUE 10. What is the data type of None?"
   ]
  },
  {
   "cell_type": "markdown",
   "id": "ab9d15f1",
   "metadata": {},
   "source": [
    "#### ANS\n",
    "Datatype of none is nonetype"
   ]
  },
  {
   "cell_type": "markdown",
   "id": "e7ac3b53",
   "metadata": {},
   "source": [
    "## QUE 11. What does the sentence import areallyourpetsnamederic do?"
   ]
  },
  {
   "cell_type": "markdown",
   "id": "4296038b",
   "metadata": {},
   "source": [
    "#### ANS\n",
    "Import a module named areallyourpetsnamederic."
   ]
  },
  {
   "cell_type": "markdown",
   "id": "a603ce1d",
   "metadata": {},
   "source": [
    "## QUE12. If you had a bacon() feature in a spam module, what would you call it after importing spam?"
   ]
  },
  {
   "cell_type": "markdown",
   "id": "96293492",
   "metadata": {},
   "source": [
    "#### ANS \n",
    "spam.bacon() "
   ]
  },
  {
   "cell_type": "markdown",
   "id": "59c55d0c",
   "metadata": {},
   "source": [
    "## QUE 13. What can you do to save a programme from crashing if it encounters an error?"
   ]
  },
  {
   "cell_type": "markdown",
   "id": "397a0f55",
   "metadata": {},
   "source": [
    "#### ANS\n",
    "we have moved our code inside a try and except statement. Try running the program and it should throw an error message instead of crashing the program"
   ]
  },
  {
   "cell_type": "markdown",
   "id": "49567ed4",
   "metadata": {},
   "source": [
    "## QUE 14. What is the purpose of the try clause? What is the purpose of the except clause?"
   ]
  },
  {
   "cell_type": "markdown",
   "id": "41e77700",
   "metadata": {},
   "source": [
    "#### ANS\n",
    "try: If an exception is raised, it jumps straight into the except block.\n",
    "\n",
    "except: this code is only executed if an exception occured in the try block. The except block is required with a try block"
   ]
  },
  {
   "cell_type": "code",
   "execution_count": null,
   "id": "d3ae44a9",
   "metadata": {},
   "outputs": [],
   "source": []
  }
 ],
 "metadata": {
  "kernelspec": {
   "display_name": "Python 3 (ipykernel)",
   "language": "python",
   "name": "python3"
  },
  "language_info": {
   "codemirror_mode": {
    "name": "ipython",
    "version": 3
   },
   "file_extension": ".py",
   "mimetype": "text/x-python",
   "name": "python",
   "nbconvert_exporter": "python",
   "pygments_lexer": "ipython3",
   "version": "3.9.12"
  }
 },
 "nbformat": 4,
 "nbformat_minor": 5
}
