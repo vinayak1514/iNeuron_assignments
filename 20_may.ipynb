{
 "cells": [
  {
   "cell_type": "markdown",
   "id": "d6d799e8",
   "metadata": {},
   "source": [
    "### Q.1. What are keywords in python? Using the keyword library, print all the python keywords.\n",
    "\n",
    "#### Ans\n",
    "\n",
    "Python Keywords are some predefined and reserved words in python that have special meanings. Keywords are used to define the syntax of the coding. The keyword cannot be used as an identifier, function, or variable name. All the keywords in python are written in lowercase except True and False."
   ]
  },
  {
   "cell_type": "code",
   "execution_count": 1,
   "id": "e0fd48ce",
   "metadata": {},
   "outputs": [
    {
     "name": "stdout",
     "output_type": "stream",
     "text": [
      "['False', 'None', 'True', '__peg_parser__', 'and', 'as', 'assert', 'async', 'await', 'break', 'class', 'continue', 'def', 'del', 'elif', 'else', 'except', 'finally', 'for', 'from', 'global', 'if', 'import', 'in', 'is', 'lambda', 'nonlocal', 'not', 'or', 'pass', 'raise', 'return', 'try', 'while', 'with', 'yield']\n"
     ]
    }
   ],
   "source": [
    "import keyword\n",
    "print(keyword.kwlist)"
   ]
  },
  {
   "cell_type": "markdown",
   "id": "a32c1a0f",
   "metadata": {},
   "source": [
    "### Q.2. What are the rules to create variables in python?\n",
    "####  Ans\n",
    "##### A variable name can't be anything as we went . There are some rules which has to taken while declaring a variable:\n",
    "\n",
    "* A variable name must with a letter or the underscore charcater\n",
    "* A variable name can't start with a number\n",
    "* A variable name can only alpha_numeric characters and underscore (A-Z,a-z,0-9 and _)\n",
    "* Variable name are case-sensitive(age,Age,AGE) are there different variable\n",
    "* There can't be space among variable name\n"
   ]
  },
  {
   "cell_type": "markdown",
   "id": "dfa50619",
   "metadata": {},
   "source": [
    "### Q.3. What are the standards and conventions followed for the nomenclature of variables in python to improve code readability and maintainability?\n",
    "\n",
    "#### Ans\n",
    "In Python, adhering to consistent naming conventions and standards for variables is essential to improve code readability.\n",
    "\n",
    "Some of them are:\n",
    "\n",
    "* Snake Case for Variables.\n",
    "\n",
    "* Descriptive and Meaningful Names.\n",
    "\n",
    "* Avoid Reserved Keywords.\n",
    "\n",
    "* Use Plural for Collections.\n",
    "\n",
    "* Constants in UPPERCASE.\n",
    "\n",
    "* Class Names in CamelCase.\n",
    "\n",
    "Private Variables with Leading Underscore.\n",
    "\n",
    "Module-level Constants with ALL_CAPS."
   ]
  },
  {
   "cell_type": "markdown",
   "id": "38d74b5e",
   "metadata": {},
   "source": [
    "### Q.4. What will happen if a keyword is used as a variable name?\n",
    "#### Ans\n",
    "If a keyword is used as a variable name, python will raise a SyntaxError. Keywords are reserved words that Python uses for specific operations and they cannot be used as identifiers.\n"
   ]
  },
  {
   "cell_type": "code",
   "execution_count": 15,
   "id": "35b0c068",
   "metadata": {},
   "outputs": [
    {
     "ename": "SyntaxError",
     "evalue": "cannot assign to False (2607487379.py, line 1)",
     "output_type": "error",
     "traceback": [
      "\u001b[1;36m  Input \u001b[1;32mIn [15]\u001b[1;36m\u001b[0m\n\u001b[1;33m    False = 'This is a false statement' #False is a keyword and cannot be used as a variable name/identifier\u001b[0m\n\u001b[1;37m    ^\u001b[0m\n\u001b[1;31mSyntaxError\u001b[0m\u001b[1;31m:\u001b[0m cannot assign to False\n"
     ]
    }
   ],
   "source": [
    "False = 'This is a false statement' #False is a keyword and cannot be used as a variable name/identifier"
   ]
  },
  {
   "cell_type": "markdown",
   "id": "bca1b3bf",
   "metadata": {},
   "source": [
    "### Q.5. For what purpose def keyword is used?\n",
    "#### Ans\n",
    "def keyword is used define function"
   ]
  },
  {
   "cell_type": "code",
   "execution_count": 14,
   "id": "acdf4b51",
   "metadata": {},
   "outputs": [
    {
     "data": {
      "text/plain": [
       "11"
      ]
     },
     "execution_count": 14,
     "metadata": {},
     "output_type": "execute_result"
    }
   ],
   "source": [
    "def add(x,y):\n",
    "    return x+y\n",
    "add(5,6)"
   ]
  },
  {
   "cell_type": "markdown",
   "id": "6bcbdd57",
   "metadata": {},
   "source": [
    "### Q.6. What is the operation of this special character ‘\\’?\n",
    "\n",
    "#### Ans\n",
    "The special character ‘\\’ is used as an escape character in python. It allows us to include special characters in strings that would otherwise result in syntax errors."
   ]
  },
  {
   "cell_type": "code",
   "execution_count": 13,
   "id": "c1635287",
   "metadata": {},
   "outputs": [
    {
     "name": "stdout",
     "output_type": "stream",
     "text": [
      "He asked, \"who are you?\"\n"
     ]
    }
   ],
   "source": [
    "print(\"He asked, \\\"who are you?\\\"\")"
   ]
  },
  {
   "cell_type": "markdown",
   "id": "ff9abf76",
   "metadata": {},
   "source": [
    "### Q.7. Give an example of the following conditions:\n",
    "(i) Homogeneous list\n",
    "\n",
    "(ii) Heterogeneous set\n",
    "\n",
    "(iii) Homogeneous tuple\n",
    "\n",
    "#### Ans\n",
    "(i) Homogeneous list is [1,2,3,4,5]\n",
    "\n",
    "(ii) Heterogeneous set is {1,2,3.0,'one','two'}\n",
    "\n",
    "(iii) Homogeneous tuple is (1,2,3,4,5)"
   ]
  },
  {
   "cell_type": "markdown",
   "id": "cf3705a0",
   "metadata": {},
   "source": [
    "### Q.8. Explain the mutable and immutable data types with proper explanation & examples.\n",
    "\n",
    "#### Ans\n",
    "Mutable data types in python are those which can be changed after they are created.\n",
    "\n",
    "Example: lists, sets, and dictionaries.\n",
    "\n",
    "Immutable data types are those which cannot be changed after they are created.\n",
    "\n",
    "Example: integers, floats, strings, tuples, and frozensets."
   ]
  },
  {
   "cell_type": "markdown",
   "id": "37865f42",
   "metadata": {},
   "source": [
    "### Q.9. Write a code to create the given structure using only for loop.\n",
    "\n",
    "* Triangle using the symbol \" * \""
   ]
  },
  {
   "cell_type": "code",
   "execution_count": 11,
   "id": "a0be907a",
   "metadata": {},
   "outputs": [
    {
     "name": "stdout",
     "output_type": "stream",
     "text": [
      "    \n",
      "   *\n",
      "  ***\n",
      " *****\n",
      "*******\n"
     ]
    }
   ],
   "source": [
    "n = 5 \n",
    "for i in range(n):\n",
    "    print(\" \"*(n-i-1)+\"*\"*(2*i-1))"
   ]
  },
  {
   "cell_type": "markdown",
   "id": "0b5f816a",
   "metadata": {},
   "source": [
    "### Q.10. Write a code to create the given structure using while loop.\n",
    "* Reverse triangle using the symbol \" | \""
   ]
  },
  {
   "cell_type": "code",
   "execution_count": 12,
   "id": "8c601fea",
   "metadata": {},
   "outputs": [
    {
     "name": "stdout",
     "output_type": "stream",
     "text": [
      "|||||||||\n",
      " |||||||\n",
      "  |||||\n",
      "   |||\n",
      "    |\n"
     ]
    }
   ],
   "source": [
    "n = 5\n",
    "i = 1\n",
    "while n>0:\n",
    "    b = 1\n",
    "    while i>b:\n",
    "        print(\" \",end=\"\")\n",
    "        b+=1\n",
    "    k = 0\n",
    "    while k<2*n-1:\n",
    "        print(\"|\",end='')\n",
    "        k+=1\n",
    "    print()\n",
    "    n-=1\n",
    "    i+=1"
   ]
  },
  {
   "cell_type": "code",
   "execution_count": null,
   "id": "69b90571",
   "metadata": {},
   "outputs": [],
   "source": []
  }
 ],
 "metadata": {
  "kernelspec": {
   "display_name": "Python 3 (ipykernel)",
   "language": "python",
   "name": "python3"
  },
  "language_info": {
   "codemirror_mode": {
    "name": "ipython",
    "version": 3
   },
   "file_extension": ".py",
   "mimetype": "text/x-python",
   "name": "python",
   "nbconvert_exporter": "python",
   "pygments_lexer": "ipython3",
   "version": "3.9.12"
  }
 },
 "nbformat": 4,
 "nbformat_minor": 5
}
