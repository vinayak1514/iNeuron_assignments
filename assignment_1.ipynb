{
 "cells": [
  {
   "cell_type": "markdown",
   "id": "0e4b1ee8",
   "metadata": {},
   "source": [
    "## Python basic assignment"
   ]
  },
  {
   "cell_type": "markdown",
   "id": "3b76e396",
   "metadata": {},
   "source": [
    "### 1. In the below elements which of them are values or an expression?"
   ]
  },
  {
   "cell_type": "markdown",
   "id": "5d1555f5",
   "metadata": {},
   "source": [
    "Values:- \n",
    "*\t'hello'  --> This is a  string datatype\n",
    "*\t-87.8    --> This is a float datatype\n",
    "*\t6        --> This is a integer datatype\n",
    "    \n",
    "Expression:- \n",
    "*\t\"-\" --> This is the subtraction operator\n",
    "*\t\"/\"  --> This is the division operator\n",
    "*\t\"*\"  --> This is the muliplication operator\n",
    "*\t\"+\"  --> This is the addition operator\n"
   ]
  },
  {
   "cell_type": "markdown",
   "id": "4a58424e",
   "metadata": {},
   "source": [
    "### 2. What is the difference between string and variable?"
   ]
  },
  {
   "cell_type": "markdown",
   "id": "48401f97",
   "metadata": {},
   "source": [
    "String :- A string is a data structure in Python that represents a sequence of characters. It is an immutable data type,\n",
    "        meaning that once we have created  a string , we can't change it ,\n",
    "        and is always represented inside \" \"or ' ' .\n",
    "        \n",
    "Variable :- Variable are used to store values . But the best thing in python is that unlike other programming language,\n",
    "        python has no command for declaring a variable"
   ]
  },
  {
   "cell_type": "markdown",
   "id": "fa11302d",
   "metadata": {},
   "source": [
    "### 3. Describe three different data types."
   ]
  },
  {
   "cell_type": "markdown",
   "id": "32256e14",
   "metadata": {},
   "source": [
    "String: A string is data type which can have \"A-Z\" characters. \n",
    "    It has to be represented inside a \"\" or '' to be considered as a string value. \n",
    "    The str() method can convert other data types into string so that operations can be performed between similiar data types.\n",
    "    \n",
    "integer :An integer is a numercial value or a whole number without a decimal point. \n",
    "    The int() is used to convert a data type into an integer so that operations can be performed on it.\n",
    "    but we can't convert string into a integer data type\n",
    "    \n",
    "Float: A float is a numerical value which has a decimal point. Float()  is used to convert a data type into an float but\n",
    "    we can't convert string into float data type."
   ]
  },
  {
   "cell_type": "markdown",
   "id": "72ecd7de",
   "metadata": {},
   "source": [
    "### 4. What is an expression made up of? What do all expressions do?\n",
    "Expression is made up of operands and operators.All expression do representations of value \n",
    "Ex: 3+5*4 : This is a combination of values and the answer is 23"
   ]
  },
  {
   "cell_type": "markdown",
   "id": "7557d63e",
   "metadata": {},
   "source": [
    "### 5. This assignment statements, like spam = 10. What is the difference between an expression and a statement?\n",
    "The basic difference b/w a statement and an expression is that a statement is a line of code that performs a specific function or operation. Whereas, an expression is a combination of variables, operators, operands, etc which evalutes to a single value.\n",
    "\n",
    "Ex: statement = \"Hello!\" #This is an assignment statement ,\n",
    "\n",
    "x = 3 + 4 # Here, the expression '3 + 4' evaluates to the value 7, which is then assigned to the variable x"
   ]
  },
  {
   "cell_type": "markdown",
   "id": "2f4bbcb3",
   "metadata": {},
   "source": [
    "### 6.After running the following code, what does the variable bacon contain?\n",
    "bacon = 22\n",
    "\n",
    "bacon + 1\n",
    "\n",
    "The variable bacon will contain value 23 . Because in bacon we add 1 to bacon variable.\n",
    "which is 22, so 22+1 = 23"
   ]
  },
  {
   "cell_type": "code",
   "execution_count": 3,
   "id": "4ed682dd",
   "metadata": {},
   "outputs": [
    {
     "data": {
      "text/plain": [
       "23"
      ]
     },
     "execution_count": 3,
     "metadata": {},
     "output_type": "execute_result"
    }
   ],
   "source": [
    "bacon = 22\n",
    "\n",
    "bacon + 1"
   ]
  },
  {
   "cell_type": "markdown",
   "id": "877e61f3",
   "metadata": {},
   "source": [
    "### 7.What should the values of the following two terms be?\n",
    "'spam' + 'spamspam' and 'spam' * 3"
   ]
  },
  {
   "cell_type": "code",
   "execution_count": 4,
   "id": "0450361f",
   "metadata": {},
   "outputs": [
    {
     "data": {
      "text/plain": [
       "'spamspamspam'"
      ]
     },
     "execution_count": 4,
     "metadata": {},
     "output_type": "execute_result"
    }
   ],
   "source": [
    "'spam' + 'spamspam'"
   ]
  },
  {
   "cell_type": "code",
   "execution_count": null,
   "id": "1a0ef4e9",
   "metadata": {},
   "outputs": [],
   "source": [
    "In string + operator concatenate string \n"
   ]
  },
  {
   "cell_type": "markdown",
   "id": "60925272",
   "metadata": {},
   "source": [
    "### 8. Why is eggs a valid variable name while 100 is invalid?\n",
    "eggs is a valid variable because a variable can contain letters A-Z or a-z, _ and numeric values(but we start variable name with numeric value). However, 100 is not a valid variable name ,because variable name cannot start with a numeric value, we or can't contain a space or special character in variable name like @#$&,etc"
   ]
  },
  {
   "cell_type": "markdown",
   "id": "363e0030",
   "metadata": {},
   "source": [
    "### 9. What three functions can be used to get the integer, floating-point number, or string version of a value?\n",
    "\n",
    "\n",
    "Integer: int()\n",
    "\n",
    "Float: float() \n",
    "\n",
    "String: str()\n",
    "\n",
    "The functions mentioned above are used for type  casting (convert) one data type into another."
   ]
  },
  {
   "cell_type": "markdown",
   "id": "c101b395",
   "metadata": {},
   "source": [
    "### 10. Why does this expression cause an error? How can you fix it?\n"
   ]
  },
  {
   "cell_type": "code",
   "execution_count": 6,
   "id": "8c454fd9",
   "metadata": {},
   "outputs": [
    {
     "ename": "TypeError",
     "evalue": "can only concatenate str (not \"int\") to str",
     "output_type": "error",
     "traceback": [
      "\u001b[1;31m---------------------------------------------------------------------------\u001b[0m",
      "\u001b[1;31mTypeError\u001b[0m                                 Traceback (most recent call last)",
      "Input \u001b[1;32mIn [6]\u001b[0m, in \u001b[0;36m<cell line: 1>\u001b[1;34m()\u001b[0m\n\u001b[1;32m----> 1\u001b[0m \u001b[38;5;124;43m'\u001b[39;49m\u001b[38;5;124;43mI have eaten\u001b[39;49m\u001b[38;5;124;43m'\u001b[39;49m\u001b[43m \u001b[49m\u001b[38;5;241;43m+\u001b[39;49m\u001b[43m \u001b[49m\u001b[38;5;241;43m99\u001b[39;49m \u001b[38;5;241m+\u001b[39m \u001b[38;5;124m'\u001b[39m\u001b[38;5;124mburritos.\u001b[39m\u001b[38;5;124m'\u001b[39m\n",
      "\u001b[1;31mTypeError\u001b[0m: can only concatenate str (not \"int\") to str"
     ]
    }
   ],
   "source": [
    "'I have eaten' + 99 + 'burritos.'"
   ]
  },
  {
   "cell_type": "markdown",
   "id": "b1eca03e",
   "metadata": {},
   "source": [
    "The error occurs because, in python we can only concatenate similiar type of datatypes together. In this question, 'I have eaten' and 'burritos' are string values but 99 is an integer. To fix this error, first we need to convert the integer datatype into a string datatype and then we execute the code. "
   ]
  },
  {
   "cell_type": "code",
   "execution_count": 7,
   "id": "3a6d1916",
   "metadata": {},
   "outputs": [
    {
     "data": {
      "text/plain": [
       "'I have eaten 99 burritos.'"
      ]
     },
     "execution_count": 7,
     "metadata": {},
     "output_type": "execute_result"
    }
   ],
   "source": [
    "#error fixed\n",
    "\n",
    "'I have eaten' + ' 99 ' + 'burritos.'"
   ]
  },
  {
   "cell_type": "code",
   "execution_count": null,
   "id": "1eb3a5a5",
   "metadata": {},
   "outputs": [],
   "source": []
  }
 ],
 "metadata": {
  "kernelspec": {
   "display_name": "Python 3 (ipykernel)",
   "language": "python",
   "name": "python3"
  },
  "language_info": {
   "codemirror_mode": {
    "name": "ipython",
    "version": 3
   },
   "file_extension": ".py",
   "mimetype": "text/x-python",
   "name": "python",
   "nbconvert_exporter": "python",
   "pygments_lexer": "ipython3",
   "version": "3.9.12"
  }
 },
 "nbformat": 4,
 "nbformat_minor": 5
}
