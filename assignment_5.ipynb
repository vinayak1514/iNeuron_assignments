{
 "cells": [
  {
   "cell_type": "markdown",
   "id": "a04efe14",
   "metadata": {},
   "source": [
    "## Python Basic Assignment"
   ]
  },
  {
   "cell_type": "markdown",
   "id": "5580258f",
   "metadata": {},
   "source": [
    "### 1. What does an empty dictionary's code look like?\n",
    "#### Ans\n",
    "An empty dictionary's code looks like this: {}"
   ]
  },
  {
   "cell_type": "code",
   "execution_count": 1,
   "id": "66d82019",
   "metadata": {},
   "outputs": [
    {
     "data": {
      "text/plain": [
       "dict"
      ]
     },
     "execution_count": 1,
     "metadata": {},
     "output_type": "execute_result"
    }
   ],
   "source": [
    "mydict = {}\n",
    "type(mydict)"
   ]
  },
  {
   "cell_type": "markdown",
   "id": "d8292a2d",
   "metadata": {},
   "source": [
    "### 2. What is the value of a dictionary value with the key 'foo' and the value 42?\n",
    "#### Ans"
   ]
  },
  {
   "cell_type": "code",
   "execution_count": 4,
   "id": "040bbbcf",
   "metadata": {},
   "outputs": [
    {
     "data": {
      "text/plain": [
       "{'foo': 42}"
      ]
     },
     "execution_count": 4,
     "metadata": {},
     "output_type": "execute_result"
    }
   ],
   "source": [
    "mydict = {'foo':42}\n",
    "mydict"
   ]
  },
  {
   "cell_type": "markdown",
   "id": "bb20a4f7",
   "metadata": {},
   "source": [
    "### 3. What is the most significant distinction between a dictionary and a list?\n",
    "\n",
    "#### Ans\n",
    "##### LIST\n",
    "List is initialized with [], and elements are separated by ','.\t\n",
    "\n",
    "List values can be accessed by numeric indexes.\n",
    "\n",
    "List is ordered, mutable, and allows duplicate values.\n",
    "\n",
    "Lists are used to store the data, which should be ordered and sequential.\t\n",
    "Dictionary:\n",
    "\n",
    "\t\n",
    "##### DICTIONARY\n",
    "-Dictionary is created by placing elements in {}, data is added as key-value pair, and each pair is separated by ','.\n",
    "\n",
    "Dictionary items can be accessed by using key values. Key values can be of any data type.\n",
    "\n",
    "In a dictionary, the dictionary is unordered and mutable, but the dictionary doesn't allow duplicate values with the same key in it.\n",
    "\n",
    "It stores large amounts of data for easy and quick access\n"
   ]
  },
  {
   "cell_type": "markdown",
   "id": "8c3e2ba4",
   "metadata": {},
   "source": [
    "### 4. What happens if you try to access spam['foo'] if spam is {'bar': 100}?\n",
    "\n",
    "#### Ans \n",
    "\n",
    "It will gives us key error"
   ]
  },
  {
   "cell_type": "code",
   "execution_count": 1,
   "id": "04b1cfdc",
   "metadata": {},
   "outputs": [
    {
     "ename": "KeyError",
     "evalue": "'foo'",
     "output_type": "error",
     "traceback": [
      "\u001b[1;31m---------------------------------------------------------------------------\u001b[0m",
      "\u001b[1;31mKeyError\u001b[0m                                  Traceback (most recent call last)",
      "Input \u001b[1;32mIn [1]\u001b[0m, in \u001b[0;36m<cell line: 2>\u001b[1;34m()\u001b[0m\n\u001b[0;32m      1\u001b[0m spam \u001b[38;5;241m=\u001b[39m {\u001b[38;5;124m'\u001b[39m\u001b[38;5;124mbar\u001b[39m\u001b[38;5;124m'\u001b[39m:\u001b[38;5;241m100\u001b[39m}\n\u001b[1;32m----> 2\u001b[0m \u001b[43mspam\u001b[49m\u001b[43m[\u001b[49m\u001b[38;5;124;43m'\u001b[39;49m\u001b[38;5;124;43mfoo\u001b[39;49m\u001b[38;5;124;43m'\u001b[39;49m\u001b[43m]\u001b[49m\n",
      "\u001b[1;31mKeyError\u001b[0m: 'foo'"
     ]
    }
   ],
   "source": [
    "spam = {'bar':100}\n",
    "spam['foo']"
   ]
  },
  {
   "cell_type": "markdown",
   "id": "334f1e88",
   "metadata": {},
   "source": [
    "### 5. If a dictionary is stored in spam, what is the difference between the expressions 'cat' in spam and 'cat' in spam.keys()?\n",
    "\n",
    "####  Ans\n",
    "There is no difference, both check if 'cat' key is key of the dictionary and if its a key, returns True."
   ]
  },
  {
   "cell_type": "code",
   "execution_count": 2,
   "id": "34c2168a",
   "metadata": {},
   "outputs": [
    {
     "data": {
      "text/plain": [
       "False"
      ]
     },
     "execution_count": 2,
     "metadata": {},
     "output_type": "execute_result"
    }
   ],
   "source": [
    "\n",
    "spam ={100:'cat'}\n",
    "'cat' in spam"
   ]
  },
  {
   "cell_type": "code",
   "execution_count": 3,
   "id": "f84b73fa",
   "metadata": {},
   "outputs": [
    {
     "data": {
      "text/plain": [
       "False"
      ]
     },
     "execution_count": 3,
     "metadata": {},
     "output_type": "execute_result"
    }
   ],
   "source": [
    "'cat' in spam.keys()"
   ]
  },
  {
   "cell_type": "markdown",
   "id": "4ea8b0da",
   "metadata": {},
   "source": [
    "### 6. If a dictionary is stored in spam, what is the difference between the expressions 'cat' in spam and 'cat' in spam.values()?\n",
    "\n",
    "### Ans\n",
    "'cat' in spam checks whether there is a 'cat' key in the dictionary\n",
    "\n",
    "'cat' in spam.values() checks whether there is a value 'cat' for one of the keys in spam."
   ]
  },
  {
   "cell_type": "code",
   "execution_count": 4,
   "id": "23c0523d",
   "metadata": {},
   "outputs": [
    {
     "data": {
      "text/plain": [
       "True"
      ]
     },
     "execution_count": 4,
     "metadata": {},
     "output_type": "execute_result"
    }
   ],
   "source": [
    "spam ={'cat':100}\n",
    "'cat' in spam"
   ]
  },
  {
   "cell_type": "code",
   "execution_count": 5,
   "id": "e50e423d",
   "metadata": {},
   "outputs": [
    {
     "data": {
      "text/plain": [
       "False"
      ]
     },
     "execution_count": 5,
     "metadata": {},
     "output_type": "execute_result"
    }
   ],
   "source": [
    "spam ={'cat':100}\n",
    "'cat' in spam.values()"
   ]
  },
  {
   "cell_type": "markdown",
   "id": "f3ee3934",
   "metadata": {},
   "source": [
    "### 7. What is a shortcut for the following code?\n",
    "### if 'color' not in spam:\n",
    "### spam['color'] = 'black'\n",
    "\n",
    "\n",
    "#### Ans\n",
    "Shortcut for the code is using the dict.setdefault() method"
   ]
  },
  {
   "cell_type": "code",
   "execution_count": 7,
   "id": "5c0e9949",
   "metadata": {},
   "outputs": [
    {
     "name": "stdout",
     "output_type": "stream",
     "text": [
      "{'cat': 100, 'color': 'black'}\n"
     ]
    }
   ],
   "source": [
    "spam ={'cat':100}\n",
    "spam.setdefault('color','black')\n",
    "print(spam)"
   ]
  },
  {
   "cell_type": "markdown",
   "id": "26614cce",
   "metadata": {},
   "source": [
    "### 8. How do you \"pretty print\" dictionary values using which module and function?\n",
    "\n",
    "#### Ans\n",
    "To achieve readability of complex code structures. The pprint module includes the pprint() function, which formats and prints data structures in a visually organized manner."
   ]
  },
  {
   "cell_type": "code",
   "execution_count": 25,
   "id": "767c6da6",
   "metadata": {},
   "outputs": [
    {
     "name": "stdout",
     "output_type": "stream",
     "text": [
      "[{'Country': 'India', 'Product_Name': 'iphone14promax', 'Rating': '5'},\n",
      " {'Country': 'China', 'Product_Name': 'toygun', 'Rating': '2'},\n",
      " {'Country': 'UK', 'Product_Name': 'the hidden hindu book', 'Rating': '4'},\n",
      " {'Country': 'USA', 'Product_Name': 'iphone', 'Rating': '3'}]\n"
     ]
    }
   ],
   "source": [
    "import pprint\n",
    "mydict =  {'Product_Name': 'iphone14promax', \n",
    "         'Rating': '5', 'Country': 'India'},\n",
    "       \n",
    "  {'Product_Name': 'toygun', 'Rating': '2', \n",
    "   'Country': 'China'},\n",
    "       \n",
    "  {'Product_Name': 'the hidden hindu book', \n",
    "   'Rating': '4', 'Country': 'UK'},\n",
    "       \n",
    "  {'Product_Name': 'iphone',\n",
    "   'Rating': '3', 'Country': 'USA'}\n",
    "\n",
    "pprint.pprint(mydict)"
   ]
  },
  {
   "cell_type": "code",
   "execution_count": 29,
   "id": "56e1bbb7",
   "metadata": {},
   "outputs": [
    {
     "name": "stdout",
     "output_type": "stream",
     "text": [
      "{'address': {'city': 'Nagpur', 'zipcode': '441111'},\n",
      " 'age': 26,\n",
      " 'interests': ['cooking', 'coding', 'hiking'],\n",
      " 'name': 'Sufal Banerjee '}\n"
     ]
    }
   ],
   "source": [
    "import pprint\n",
    "\n",
    "data = {\n",
    "    'name': 'Sufal Banerjee ',\n",
    "    'age': 26,\n",
    "    'address': {\n",
    "        'city': 'Nagpur',\n",
    "        'zipcode': '441111'\n",
    "    },\n",
    "    'interests': ['cooking', 'coding', 'hiking']\n",
    "}\n",
    "\n",
    "pprint.pprint(data)\n"
   ]
  },
  {
   "cell_type": "code",
   "execution_count": null,
   "id": "2a546e44",
   "metadata": {},
   "outputs": [],
   "source": []
  }
 ],
 "metadata": {
  "kernelspec": {
   "display_name": "Python 3 (ipykernel)",
   "language": "python",
   "name": "python3"
  },
  "language_info": {
   "codemirror_mode": {
    "name": "ipython",
    "version": 3
   },
   "file_extension": ".py",
   "mimetype": "text/x-python",
   "name": "python",
   "nbconvert_exporter": "python",
   "pygments_lexer": "ipython3",
   "version": "3.9.12"
  }
 },
 "nbformat": 4,
 "nbformat_minor": 5
}
