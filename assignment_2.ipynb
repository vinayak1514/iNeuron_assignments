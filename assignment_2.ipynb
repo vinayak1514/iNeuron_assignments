{
 "cells": [
  {
   "cell_type": "markdown",
   "id": "d2c8267c",
   "metadata": {},
   "source": [
    "## Python basic Assignment"
   ]
  },
  {
   "cell_type": "markdown",
   "id": "e8f8ad7a",
   "metadata": {},
   "source": [
    "#### 1.What are the two values of the Boolean data type? How do you write them?\n",
    "Two values of Boolean data type are:\n",
    "* True\n",
    "* False\n",
    "\n",
    "They are case sensitive.It is represented are True and False. It returns a value either True or False based on condition"
   ]
  },
  {
   "cell_type": "markdown",
   "id": "cf6e6f4c",
   "metadata": {},
   "source": [
    "#### 2. What are the three different types of Boolean operators?\n",
    "\n",
    "AND:- Return true if and only if all the condition are true.If any one condition is false ,it will make condition false\n",
    "\n",
    "OR :- Return true any one among them are true. It will return false if not even one conditoin is true\n",
    "\n",
    "NOT:- This operateor is used to reverse the output of logical condition. \n",
    "\tThis mean some conditinis true it will convert it ot false and if some condtion is false it will make it true"
   ]
  },
  {
   "cell_type": "code",
   "execution_count": 9,
   "id": "2597d18a",
   "metadata": {},
   "outputs": [
    {
     "name": "stdout",
     "output_type": "stream",
     "text": [
      "Example of boolean_and: False\n",
      "Example of boolean_or: True\n",
      "Example of boolean_not: True\n"
     ]
    }
   ],
   "source": [
    "# Example\n",
    "x = 19 \n",
    "y = 50\n",
    "\n",
    "# and \n",
    "boolean_and = x<y and x>y\n",
    "boolean_or = x<y or x>y\n",
    "boolean_not = not(x<y and x>y) \n",
    "\n",
    "print('Example of boolean_and:',boolean_and)\n",
    "print('Example of boolean_or:',boolean_or)\n",
    "print('Example of boolean_not:',boolean_not)"
   ]
  },
  {
   "cell_type": "markdown",
   "id": "2ed1659c",
   "metadata": {},
   "source": [
    "#### 3. Make a list of each Boolean operator's truth tables (i.e. every possible combination of Boolean values for the operator and what it evaluate)\n",
    "\n",
    "     A       B\t\t    A and B\t\tA or B\t\tnot A\n",
    "    True\tTrue\t\tTrue\t\tTrue\t\tFalse\t\n",
    "    True\tFalse\t\tFalse\t\tTrue\t\tFalse\n",
    "    False\tTrue\t\tFalse\t\tTrue\t\tTrue\n",
    "    False\tFalse\t\tFalse\t\tFalse\t\tTrue\n",
    "\n",
    "\n",
    "In the truth table , A and B represent Boolean values (True or False). The and operator returns True if both A and B are True, otherwise, it returns False. The or operator returns True if at least one of A or B is True, otherwise, it returns False. The not operator negates the value of A, so if A is True, not A is False, and if A is False, not A is True.\t\t\t\t"
   ]
  },
  {
   "cell_type": "markdown",
   "id": "4cd62f56",
   "metadata": {},
   "source": [
    "#### 4. What are the values of the following expressions?\n",
    "(5 > 4) and (3 == 5) \n",
    "\n",
    "not (5 > 4) (5 > 4) or (3 == 5) \n",
    "\n",
    "not ((5 > 4) or (3 == 5)) \n",
    "\n",
    "(True and True) and (True == False) \n",
    "\n",
    "(not False) or (not True)"
   ]
  },
  {
   "cell_type": "code",
   "execution_count": 10,
   "id": "ec09a7ba",
   "metadata": {},
   "outputs": [
    {
     "data": {
      "text/plain": [
       "False"
      ]
     },
     "execution_count": 10,
     "metadata": {},
     "output_type": "execute_result"
    }
   ],
   "source": [
    "(5 > 4) and (3 == 5) "
   ]
  },
  {
   "cell_type": "code",
   "execution_count": 11,
   "id": "2c680f3d",
   "metadata": {},
   "outputs": [
    {
     "data": {
      "text/plain": [
       "False"
      ]
     },
     "execution_count": 11,
     "metadata": {},
     "output_type": "execute_result"
    }
   ],
   "source": [
    "not (5 > 4)"
   ]
  },
  {
   "cell_type": "code",
   "execution_count": 12,
   "id": "78f940af",
   "metadata": {},
   "outputs": [
    {
     "data": {
      "text/plain": [
       "True"
      ]
     },
     "execution_count": 12,
     "metadata": {},
     "output_type": "execute_result"
    }
   ],
   "source": [
    "(5 > 4) or (3 == 5)"
   ]
  },
  {
   "cell_type": "code",
   "execution_count": 13,
   "id": "b84d94a6",
   "metadata": {},
   "outputs": [
    {
     "data": {
      "text/plain": [
       "False"
      ]
     },
     "execution_count": 13,
     "metadata": {},
     "output_type": "execute_result"
    }
   ],
   "source": [
    "(True and True) and (True == False)"
   ]
  },
  {
   "cell_type": "code",
   "execution_count": 14,
   "id": "d07a2d5f",
   "metadata": {},
   "outputs": [
    {
     "data": {
      "text/plain": [
       "True"
      ]
     },
     "execution_count": 14,
     "metadata": {},
     "output_type": "execute_result"
    }
   ],
   "source": [
    "(not False) or (not True)"
   ]
  },
  {
   "cell_type": "markdown",
   "id": "4f2271c7",
   "metadata": {},
   "source": [
    "#### 5. What are the six comparison operators?\n",
    "\n",
    "\n"
   ]
  },
  {
   "cell_type": "code",
   "execution_count": null,
   "id": "777af79b",
   "metadata": {},
   "outputs": [],
   "source": [
    "#The 6 comparison operators are as follows:\n",
    "# That perfoms comparsion among operands . It gives either True or False based on the conditon\n",
    "'''\n",
    "> - Greater than\n",
    "< - less than\n",
    "== - Is equal to\n",
    ">= - Greater than or equal to\n",
    "<= - Less than or equal to\n",
    "!= - not equal to\n",
    "'''"
   ]
  },
  {
   "cell_type": "markdown",
   "id": "e7005014",
   "metadata": {},
   "source": [
    "#### 6. How do you tell the difference between the equal to and assignment operators?Describe a condition and when you would use one.\n",
    "The difference between the equal to and assignment operator is as follows:\n",
    "\n",
    "== operator : It evaluates if the given value is exactly equal to the other value. (It compares both the values)\n",
    "\n",
    "= assignment operator: It assigns a value to a given variable.\n",
    "\n",
    "Example:\n",
    "\n",
    "a = 10 b = 10\n",
    "\n",
    "if a == b: print(\"OK\") The output will be OK if the comparison condition is met.\n",
    "\n",
    "The variables a and b are assigned a value by using the = sign."
   ]
  },
  {
   "cell_type": "markdown",
   "id": "e776d272",
   "metadata": {},
   "source": [
    "#### 7. Identify the three blocks in this code:"
   ]
  },
  {
   "cell_type": "markdown",
   "id": "d116e7d9",
   "metadata": {},
   "source": [
    "spam = 0\n",
    "\n",
    "if spam == 10:\n",
    "\n",
    "print('eggs')    ---------> this is the first block of code because of indentation  \n",
    "\n",
    "if spam > 5:\n",
    "\n",
    "print('bacon')    --------->     this is the second block of code because of indentation \n",
    "\n",
    "else:\n",
    "\n",
    "print('ham')      --------->   this is the third block of code because of indentation \n",
    "\n",
    "print('spam')\n",
    "\n",
    "print('spam')"
   ]
  },
  {
   "cell_type": "code",
   "execution_count": 17,
   "id": "6d66947b",
   "metadata": {},
   "outputs": [
    {
     "name": "stdout",
     "output_type": "stream",
     "text": [
      "ham\n",
      "spam\n",
      "spam\n"
     ]
    }
   ],
   "source": [
    "#correction : Indentation is missing from the code, Indentation is very important to group\n",
    "#blocks of code together, else python wouldn't understand which function to execute with which block of code.\n",
    "#There are 5 print statements, hence to correctly execute the code, it has to be indented properly.\n",
    "\n",
    "spam = 0\n",
    "if spam == 10:\n",
    "    print('eggs')\n",
    "if spam >5:\n",
    "    print('bacon')\n",
    "else:\n",
    "    print('ham')\n",
    "    print('spam')\n",
    "    print('spam')  "
   ]
  },
  {
   "cell_type": "markdown",
   "id": "6482ad9f",
   "metadata": {},
   "source": [
    "#### 8. Write code that prints Hello if 1 is stored in spam, prints Howdy if 2 is stored in spam, and prints Greetings! if anything else is stored in spam."
   ]
  },
  {
   "cell_type": "code",
   "execution_count": 18,
   "id": "6d21d940",
   "metadata": {},
   "outputs": [
    {
     "name": "stdout",
     "output_type": "stream",
     "text": [
      "Enter number here:2\n",
      "Howdy\n"
     ]
    }
   ],
   "source": [
    "spam = int(input(\"Enter number here:\"))\n",
    "if spam ==1:\n",
    "     print('Hello')\n",
    "elif spam ==2:\n",
    "       print('Howdy')\n",
    "else:\n",
    "       print('Greeting!')"
   ]
  },
  {
   "cell_type": "markdown",
   "id": "2208c577",
   "metadata": {},
   "source": [
    "#### 9.If your programme is stuck in an endless loop, what keys you’ll press?\n",
    "If our program is stuck in an endless loop and we want to stop its execution, in Windows/Linex we press Ctrl+C or in Mac we press Command+c key to forcefully terminate the program:\n"
   ]
  },
  {
   "cell_type": "markdown",
   "id": "cb44a582",
   "metadata": {},
   "source": [
    "#### 10. How can you tell the difference between break and continue?\n",
    "\n",
    "Break terminate the entire loop where continue terminate the given particular value and the loop will continue"
   ]
  },
  {
   "cell_type": "code",
   "execution_count": 19,
   "id": "fa79a506",
   "metadata": {},
   "outputs": [
    {
     "name": "stdout",
     "output_type": "stream",
     "text": [
      "1\n",
      "2\n",
      "3\n",
      "4\n"
     ]
    }
   ],
   "source": [
    "for i in range(1,10):\n",
    "    if i == 5:\n",
    "        break\n",
    "    print(i)"
   ]
  },
  {
   "cell_type": "code",
   "execution_count": 20,
   "id": "f1db7388",
   "metadata": {},
   "outputs": [
    {
     "name": "stdout",
     "output_type": "stream",
     "text": [
      "1\n",
      "2\n",
      "3\n",
      "4\n",
      "6\n",
      "7\n",
      "8\n",
      "9\n"
     ]
    }
   ],
   "source": [
    "for i in range(1,10):\n",
    "    if i == 5:\n",
    "        continue\n",
    "    print(i)"
   ]
  },
  {
   "cell_type": "markdown",
   "id": "85278e5f",
   "metadata": {},
   "source": [
    "#### 11. In a for loop, what is the difference between range(10), range(0, 10), and range(0, 10, 1)?"
   ]
  },
  {
   "cell_type": "code",
   "execution_count": 21,
   "id": "bb64b8c9",
   "metadata": {},
   "outputs": [
    {
     "name": "stdout",
     "output_type": "stream",
     "text": [
      "0\n",
      "1\n",
      "2\n",
      "3\n",
      "4\n",
      "5\n",
      "6\n",
      "7\n",
      "8\n",
      "9\n"
     ]
    }
   ],
   "source": [
    "for value in range(10):\n",
    "      print(value)"
   ]
  },
  {
   "cell_type": "markdown",
   "id": "716f4410",
   "metadata": {},
   "source": [
    "range(10):-This for loop print number from 0 to n-1. In this for loop only end is given,it will start from 0 and print till n-1"
   ]
  },
  {
   "cell_type": "code",
   "execution_count": 22,
   "id": "7c4edc78",
   "metadata": {},
   "outputs": [
    {
     "name": "stdout",
     "output_type": "stream",
     "text": [
      "0\n",
      "1\n",
      "2\n",
      "3\n",
      "4\n",
      "5\n",
      "6\n",
      "7\n",
      "8\n",
      "9\n"
     ]
    }
   ],
   "source": [
    "for value in range(0,10):\n",
    "      print(value)"
   ]
  },
  {
   "cell_type": "markdown",
   "id": "1b831a47",
   "metadata": {},
   "source": [
    "This for loop print number from 0 to n-1.In this for loop only start and end value is given,it will start from 0 and print till n-1."
   ]
  },
  {
   "cell_type": "code",
   "execution_count": 23,
   "id": "81534183",
   "metadata": {},
   "outputs": [
    {
     "name": "stdout",
     "output_type": "stream",
     "text": [
      "0\n",
      "1\n",
      "2\n",
      "3\n",
      "4\n",
      "5\n",
      "6\n",
      "7\n",
      "8\n",
      "9\n"
     ]
    }
   ],
   "source": [
    "for value in range(0,10,1):\n",
    "      print(value)"
   ]
  },
  {
   "cell_type": "markdown",
   "id": "470d7340",
   "metadata": {},
   "source": [
    "This for loop print number from 0 to n-1.In this for loop start value,end value and escape charcter is given,because the default escape charcter is 1\n",
    "it will print number in the normally range"
   ]
  },
  {
   "cell_type": "markdown",
   "id": "71b34ab7",
   "metadata": {},
   "source": [
    "#### 12. Write a short program that prints the numbers 1 to 10 using a for loop. Then write an equivalent program that prints the numbers 1 to 10 using a while loop."
   ]
  },
  {
   "cell_type": "code",
   "execution_count": 24,
   "id": "11564f3f",
   "metadata": {},
   "outputs": [
    {
     "name": "stdout",
     "output_type": "stream",
     "text": [
      "1\n",
      "2\n",
      "3\n",
      "4\n",
      "5\n",
      "6\n",
      "7\n",
      "8\n",
      "9\n",
      "10\n"
     ]
    }
   ],
   "source": [
    "# For loop\n",
    "for value in range(1,11):\n",
    "    print(value)"
   ]
  },
  {
   "cell_type": "code",
   "execution_count": 26,
   "id": "5569b389",
   "metadata": {},
   "outputs": [
    {
     "name": "stdout",
     "output_type": "stream",
     "text": [
      "1\n",
      "2\n",
      "3\n",
      "4\n",
      "5\n",
      "6\n",
      "7\n",
      "8\n",
      "9\n",
      "10\n"
     ]
    }
   ],
   "source": [
    "# While loop\n",
    "count = 1\n",
    "while count <=10:\n",
    "    print(count)\n",
    "    count+=1"
   ]
  },
  {
   "cell_type": "markdown",
   "id": "1ee29733",
   "metadata": {},
   "source": [
    "#### 13. If you had a function named bacon() inside a module named spam, how would you call it after importing spam?"
   ]
  },
  {
   "cell_type": "code",
   "execution_count": 27,
   "id": "480ebf3e",
   "metadata": {},
   "outputs": [
    {
     "ename": "ModuleNotFoundError",
     "evalue": "No module named 'spam'",
     "output_type": "error",
     "traceback": [
      "\u001b[1;31m---------------------------------------------------------------------------\u001b[0m",
      "\u001b[1;31mModuleNotFoundError\u001b[0m                       Traceback (most recent call last)",
      "Input \u001b[1;32mIn [27]\u001b[0m, in \u001b[0;36m<cell line: 1>\u001b[1;34m()\u001b[0m\n\u001b[1;32m----> 1\u001b[0m \u001b[38;5;28;01mimport\u001b[39;00m \u001b[38;5;21;01mspam\u001b[39;00m\n\u001b[0;32m      3\u001b[0m spam\u001b[38;5;241m.\u001b[39mbacon()\n",
      "\u001b[1;31mModuleNotFoundError\u001b[0m: No module named 'spam'"
     ]
    }
   ],
   "source": [
    "import spam\n",
    "\n",
    "spam.bacon()"
   ]
  },
  {
   "cell_type": "code",
   "execution_count": null,
   "id": "2339ac2e",
   "metadata": {},
   "outputs": [],
   "source": []
  }
 ],
 "metadata": {
  "kernelspec": {
   "display_name": "Python 3 (ipykernel)",
   "language": "python",
   "name": "python3"
  },
  "language_info": {
   "codemirror_mode": {
    "name": "ipython",
    "version": 3
   },
   "file_extension": ".py",
   "mimetype": "text/x-python",
   "name": "python",
   "nbconvert_exporter": "python",
   "pygments_lexer": "ipython3",
   "version": "3.9.12"
  }
 },
 "nbformat": 4,
 "nbformat_minor": 5
}
