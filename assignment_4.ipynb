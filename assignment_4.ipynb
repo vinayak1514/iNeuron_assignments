{
 "cells": [
  {
   "cell_type": "markdown",
   "id": "c951729f",
   "metadata": {},
   "source": [
    "## Python Basic Assignment"
   ]
  },
  {
   "cell_type": "markdown",
   "id": "14eeefbf",
   "metadata": {},
   "source": [
    "### 1. What exactly is []?\n",
    "\n",
    "#### Ans \n",
    "\n",
    "In Python \"[ ]\" denot as empty list. Empty list is a list that contain no elements in it and it is denot by square bracket"
   ]
  },
  {
   "cell_type": "markdown",
   "id": "50f528d6",
   "metadata": {},
   "source": [
    "#### 2.  In a list of values stored in a variable called spam, how would you assign the value 'hello' as the third value? (Assume [2, 4, 6, 8, 10] are in spam.)"
   ]
  },
  {
   "cell_type": "code",
   "execution_count": 4,
   "id": "77e804ed",
   "metadata": {},
   "outputs": [
    {
     "data": {
      "text/plain": [
       "[2, 4, 'hello', 6, 8, 10]"
      ]
     },
     "execution_count": 4,
     "metadata": {},
     "output_type": "execute_result"
    }
   ],
   "source": [
    "spam =  [2, 4, 6, 8, 10]\n",
    "spam.insert(2,'hello')\n",
    "spam"
   ]
  },
  {
   "cell_type": "markdown",
   "id": "7106167b",
   "metadata": {},
   "source": [
    "### Let's pretend the spam includes the list ['a', 'b', 'c', 'd'] for the next three queries."
   ]
  },
  {
   "cell_type": "markdown",
   "id": "0e66937b",
   "metadata": {},
   "source": [
    "### 3. What is the value of spam[int(int('3' * 2) / 11)]?\n",
    "\n",
    "#### Ans\n",
    "\n",
    "The value of spam[int(int('3'*2)/11)] is d . 3 is string value when it multiply 2 it become '33' string value can't divide so we convert it into integer and after that we divide by 11 it become 3. Third value on list is d "
   ]
  },
  {
   "cell_type": "code",
   "execution_count": 11,
   "id": "5a249ad9",
   "metadata": {},
   "outputs": [
    {
     "data": {
      "text/plain": [
       "'d'"
      ]
     },
     "execution_count": 11,
     "metadata": {},
     "output_type": "execute_result"
    }
   ],
   "source": [
    "spam = ['a', 'b', 'c', 'd'] \n",
    "spam[int(int('3' * 2) / 11)]"
   ]
  },
  {
   "cell_type": "markdown",
   "id": "df51a113",
   "metadata": {},
   "source": [
    "### 4. What is the value of spam[-1]?\n",
    "\n",
    "##### Ans\n",
    "\n",
    "The value of spam[-1] is d . In slicing -1 refers to last index value of list"
   ]
  },
  {
   "cell_type": "code",
   "execution_count": 12,
   "id": "c99bfdb2",
   "metadata": {},
   "outputs": [
    {
     "data": {
      "text/plain": [
       "'d'"
      ]
     },
     "execution_count": 12,
     "metadata": {},
     "output_type": "execute_result"
    }
   ],
   "source": [
    "spam[-1]"
   ]
  },
  {
   "cell_type": "markdown",
   "id": "76ea28ab",
   "metadata": {},
   "source": [
    "### 5. What is the value of spam[:2]?\n",
    "\n",
    "#### Ans\n",
    "\n",
    "The value of spam[:2] is ['a', 'b'] because in slice starting value is not given it start with default value 0 and end with 2 .but not including the index 2."
   ]
  },
  {
   "cell_type": "code",
   "execution_count": 13,
   "id": "47e2c6cb",
   "metadata": {},
   "outputs": [
    {
     "data": {
      "text/plain": [
       "['a', 'b']"
      ]
     },
     "execution_count": 13,
     "metadata": {},
     "output_type": "execute_result"
    }
   ],
   "source": [
    "spam[:2]"
   ]
  },
  {
   "cell_type": "markdown",
   "id": "60f51cf0",
   "metadata": {},
   "source": [
    "### Let's pretend bacon has the list [3.14, 'cat,' 11, 'cat,' True] for the next three questions."
   ]
  },
  {
   "cell_type": "markdown",
   "id": "dcc1e810",
   "metadata": {},
   "source": [
    "### 6.What is the value of bacon.index('cat')?\n",
    "#### Ans\n",
    "The value of bacon.index('cat') is 1.The index() method returns the first index at which a given element appears in the list."
   ]
  },
  {
   "cell_type": "code",
   "execution_count": 16,
   "id": "e6682d5d",
   "metadata": {},
   "outputs": [
    {
     "data": {
      "text/plain": [
       "1"
      ]
     },
     "execution_count": 16,
     "metadata": {},
     "output_type": "execute_result"
    }
   ],
   "source": [
    "bacon = [3.14, 'cat', 11, 'cat' ,True] \n",
    "bacon.index('cat')"
   ]
  },
  {
   "cell_type": "markdown",
   "id": "88389bde",
   "metadata": {},
   "source": [
    "### 7. How does bacon.append(99) change the look of the list value in bacon?\n",
    "\n",
    "#### Ans\n",
    "\n",
    " bacon.append(99) adds the integer 99 to the end of the list, making it [3.14, 'cat', 11, 'cat', True, 99].Because append method add value at the end of list"
   ]
  },
  {
   "cell_type": "code",
   "execution_count": 18,
   "id": "f6f62fc9",
   "metadata": {},
   "outputs": [
    {
     "name": "stdout",
     "output_type": "stream",
     "text": [
      "[3.14, 'cat', 11, 'cat', True, 99]\n"
     ]
    }
   ],
   "source": [
    "bacon = [3.14, 'cat', 11, 'cat' ,True] \n",
    "bacon.append(99)\n",
    "print(bacon)"
   ]
  },
  {
   "cell_type": "markdown",
   "id": "632416c7",
   "metadata": {},
   "source": [
    "### 8. How does bacon.remove('cat') change the look of the list in bacon?\n",
    "\n",
    "#### Ans \n",
    "\n",
    "bacon.remove('cat') removes the first occurrence of 'cat' from the list, making it [3.14, 11, 'cat', True]."
   ]
  },
  {
   "cell_type": "code",
   "execution_count": 20,
   "id": "7df2ebec",
   "metadata": {},
   "outputs": [
    {
     "name": "stdout",
     "output_type": "stream",
     "text": [
      "[3.14, 11, 'cat', True]\n"
     ]
    }
   ],
   "source": [
    "bacon = [3.14, 'cat', 11, 'cat' ,True] \n",
    "bacon.remove(\"cat\")\n",
    "print(bacon)"
   ]
  },
  {
   "cell_type": "markdown",
   "id": "ef3f8392",
   "metadata": {},
   "source": [
    "### 9. What are the list concatenation and list replication operators?\n",
    "\n",
    "#### Ans\n",
    "\n",
    "( * ) is list replication operator ( + ) is list concatination operator"
   ]
  },
  {
   "cell_type": "code",
   "execution_count": 25,
   "id": "38b26f38",
   "metadata": {},
   "outputs": [
    {
     "name": "stdout",
     "output_type": "stream",
     "text": [
      "This is a concatenatd list [41, 52, 63, 94, 85, 76]\n",
      "This is a replicated list [41, 52, 63, 41, 52, 63]\n"
     ]
    }
   ],
   "source": [
    "first_list = [41,52,63]\n",
    "second_list = [94,85,76]\n",
    "concatenated  = first_list+second_list\n",
    "print('This is a concatenatd list',concatenated)\n",
    "replicated = first_list * 2 #Concatenated and then replicated\n",
    "print('This is a replicated list',replicated)\n"
   ]
  },
  {
   "cell_type": "markdown",
   "id": "dfefb963",
   "metadata": {},
   "source": [
    "#### 10. What is difference between the list methods append() and insert()?\n",
    "\n",
    "#### Ans\n",
    "ppend() method adds an element at the end of a list.\n",
    "\n",
    "insert()method can add an element at a given position in the list"
   ]
  },
  {
   "cell_type": "code",
   "execution_count": 26,
   "id": "5883dfdf",
   "metadata": {},
   "outputs": [
    {
     "data": {
      "text/plain": [
       "[3.14, 'cat', 11, 'cat', True, 99]"
      ]
     },
     "execution_count": 26,
     "metadata": {},
     "output_type": "execute_result"
    }
   ],
   "source": [
    "bacon = [3.14, 'cat', 11, 'cat', True]\n",
    "bacon.append(99) # append adds the item at the end of the list\n",
    "bacon"
   ]
  },
  {
   "cell_type": "code",
   "execution_count": 27,
   "id": "94817ab2",
   "metadata": {},
   "outputs": [
    {
     "data": {
      "text/plain": [
       "[2, 4, 'hello', 6, 8, 10]"
      ]
     },
     "execution_count": 27,
     "metadata": {},
     "output_type": "execute_result"
    }
   ],
   "source": [
    "## insert()\n",
    "spam = [2, 4, 6, 8, 10]\n",
    "spam.insert(2,'hello')\n",
    "spam"
   ]
  },
  {
   "cell_type": "markdown",
   "id": "73f46f92",
   "metadata": {},
   "source": [
    "### 11. What are the two methods for removing items from a list?\n",
    "\n",
    "#### Ans\n",
    "\n",
    "remove and pop are two method for removing items from a list.Where remove method remove  first occurrence of a specified value where pop remove value at the end of list"
   ]
  },
  {
   "cell_type": "code",
   "execution_count": 28,
   "id": "8d27aaa4",
   "metadata": {},
   "outputs": [
    {
     "name": "stdout",
     "output_type": "stream",
     "text": [
      "[4, 8, 5]\n"
     ]
    }
   ],
   "source": [
    "#Romove\n",
    "list1 = [5,4,8,5]\n",
    "list1.remove(5)\n",
    "print(list1)"
   ]
  },
  {
   "cell_type": "code",
   "execution_count": 29,
   "id": "1df11dd3",
   "metadata": {},
   "outputs": [
    {
     "name": "stdout",
     "output_type": "stream",
     "text": [
      "[5, 4, 8]\n"
     ]
    }
   ],
   "source": [
    "# pop\n",
    "list1 = [5,4,8,5]\n",
    "list1.pop()\n",
    "print(list1)   "
   ]
  },
  {
   "cell_type": "markdown",
   "id": "ee54b46b",
   "metadata": {},
   "source": [
    "### 12. Describe how list values and string values are identical.\n",
    "\n",
    "#### Ans\n",
    "* Both lists and strings can be passed to len()\n",
    "* Have indexes and slices\n",
    "* Can be used in for loops\n",
    "* Can be concatenated or replicated\n",
    "* Can be used with the in and not in operators"
   ]
  },
  {
   "cell_type": "markdown",
   "id": "e63b7216",
   "metadata": {},
   "source": [
    "### 13. What's the difference between tuples and lists?\n",
    "\n",
    "#### Ans\n",
    "Lists : are mutable - they can have values added, removed, or changed. lists use the square brackets, [ and ]\n",
    "\n",
    "Tuples : are immutable; they can't be changed. Tuples are written using parentheses, ( and )"
   ]
  },
  {
   "cell_type": "markdown",
   "id": "a62f5d55",
   "metadata": {},
   "source": [
    "### 14. How do you type a tuple value that only contains the integer 42?"
   ]
  },
  {
   "cell_type": "code",
   "execution_count": 33,
   "id": "57f01d9d",
   "metadata": {},
   "outputs": [
    {
     "data": {
      "text/plain": [
       "(42,)"
      ]
     },
     "execution_count": 33,
     "metadata": {},
     "output_type": "execute_result"
    }
   ],
   "source": [
    "tuple_1 = (42,)\n",
    "tuple_1  "
   ]
  },
  {
   "cell_type": "markdown",
   "id": "e953e0e4",
   "metadata": {},
   "source": [
    "### 15.How do you get a list value's tuple form? How do you get a tuple value's list form?\n"
   ]
  },
  {
   "cell_type": "code",
   "execution_count": 35,
   "id": "46cc874e",
   "metadata": {},
   "outputs": [
    {
     "data": {
      "text/plain": [
       "(2, 3)"
      ]
     },
     "execution_count": 35,
     "metadata": {},
     "output_type": "execute_result"
    }
   ],
   "source": [
    "# list into tuple\n",
    "list_1 = [2,3]\n",
    "list_1 = tuple(list_1)\n",
    "list_1"
   ]
  },
  {
   "cell_type": "code",
   "execution_count": 36,
   "id": "cbb0fb6d",
   "metadata": {},
   "outputs": [
    {
     "data": {
      "text/plain": [
       "[2, 3]"
      ]
     },
     "execution_count": 36,
     "metadata": {},
     "output_type": "execute_result"
    }
   ],
   "source": [
    "# tuple into list\n",
    "tuple_1 = (2,3)\n",
    "tuple_1 = list(tuple_1)\n",
    "tuple_1"
   ]
  },
  {
   "cell_type": "markdown",
   "id": "da3cf8b4",
   "metadata": {},
   "source": [
    "### 16. Variables that \"contain\" list values are not necessarily lists themselves. Instead, what do they contain?\n",
    "\n",
    "#### Ans\n",
    "Variables that contain list values actually contain references to list values. When we assign a list to a variable, the variable points to the memory location where the list is stored, rather than holding the actual list data."
   ]
  },
  {
   "cell_type": "markdown",
   "id": "5d24772b",
   "metadata": {},
   "source": [
    "### 17. How do you distinguish between copy.copy() and copy.deepcopy()?\n",
    "\n",
    "#### Ans\n",
    "\n",
    "The copy.copy() function will do a shallow copy of a list,\n",
    "The copy.deepcopy(), an entire copy of the list is created but with a new memory location. It means, any changes made in the copied object, won't reflect in the original object"
   ]
  }
 ],
 "metadata": {
  "kernelspec": {
   "display_name": "Python 3 (ipykernel)",
   "language": "python",
   "name": "python3"
  },
  "language_info": {
   "codemirror_mode": {
    "name": "ipython",
    "version": 3
   },
   "file_extension": ".py",
   "mimetype": "text/x-python",
   "name": "python",
   "nbconvert_exporter": "python",
   "pygments_lexer": "ipython3",
   "version": "3.9.12"
  }
 },
 "nbformat": 4,
 "nbformat_minor": 5
}
