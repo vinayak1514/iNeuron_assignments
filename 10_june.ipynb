{
 "cells": [
  {
   "cell_type": "markdown",
   "id": "7830736c",
   "metadata": {},
   "source": [
    "### 1. In Python, what is the difference between a built-in function and a user-defined function? Provide an example of each.\n",
    "\n",
    "#### Ans\n",
    "\n",
    "* Built-in functions:- in Python are predefined functions that are always available for use. These include functions like print(), len(), type(), etc.\n",
    "\n",
    "           For example, len(\"Hello, World!\") will print length of the string  into the console.\n",
    "\n",
    "* User-defined functions\"- on the other hand, are functions that are defined by the programmer themselves using the def keyword.\n",
    "\n",
    "\n",
    "\n",
    "     "
   ]
  },
  {
   "cell_type": "code",
   "execution_count": 1,
   "id": "322090a7",
   "metadata": {},
   "outputs": [
    {
     "name": "stdout",
     "output_type": "stream",
     "text": [
      "Hello, Alex!\n"
     ]
    }
   ],
   "source": [
    "def greet(name):\n",
    "       print(f\"Hello, {name}!\")\n",
    "greet(\"Alex\")"
   ]
  },
  {
   "cell_type": "markdown",
   "id": "58ef0703",
   "metadata": {},
   "source": [
    "### 2. How can you pass arguments to a function in Python? Explain the difference between positional arguments and keyword arguments.\n",
    "\n",
    "#### Ans\n",
    "* Positional arguments: Positional arguments must be included in the correct order.\n",
    "\n"
   ]
  },
  {
   "cell_type": "code",
   "execution_count": 2,
   "id": "807b092c",
   "metadata": {},
   "outputs": [
    {
     "name": "stdout",
     "output_type": "stream",
     "text": [
      "Hello, Alex Roy!\n"
     ]
    }
   ],
   "source": [
    "def greet(first_name, last_name):\n",
    "         print(f\"Hello, {first_name} {last_name}!\")\n",
    "greet(\"Alex\", \"Roy\")"
   ]
  },
  {
   "cell_type": "markdown",
   "id": "6d64dd34",
   "metadata": {},
   "source": [
    "* Keyword arguments:Keyword arguments are included with a keyword and equals sign."
   ]
  },
  {
   "cell_type": "code",
   "execution_count": 3,
   "id": "46bd2228",
   "metadata": {},
   "outputs": [
    {
     "name": "stdout",
     "output_type": "stream",
     "text": [
      "Hello, Alex Roy!\n"
     ]
    }
   ],
   "source": [
    "def greet(first_name, last_name):\n",
    "         print(f\"Hello, {first_name} {last_name}!\")\n",
    "greet(last_name=\"Roy\",first_name =\"Alex\")"
   ]
  },
  {
   "cell_type": "markdown",
   "id": "31165cd5",
   "metadata": {},
   "source": [
    "### 3. What is the purpose of the return statement in a function? Can a function have multiple return statements? Explain with an example.\n",
    "\n",
    "#### Ans\n",
    "\n",
    "The return statement is used to exit a function and go back to the place where it was called. A function can have multiple return statements. If the Python interpreter encounters a return statement, it will exit the function immediately and ignore any code that comes after it.\n"
   ]
  },
  {
   "cell_type": "code",
   "execution_count": 7,
   "id": "095d209e",
   "metadata": {},
   "outputs": [
    {
     "name": "stdout",
     "output_type": "stream",
     "text": [
      "9 is greater \n"
     ]
    }
   ],
   "source": [
    "def max(num1, num2):\n",
    "    if num1 > num2:\n",
    "           return f'{num1} is greater '\n",
    "    else:\n",
    "           return f'{num2} is greater'\n",
    "print(max(9, 4))"
   ]
  },
  {
   "cell_type": "markdown",
   "id": "b958e969",
   "metadata": {},
   "source": [
    "### 4. What are lambda functions in Python? How are they different from regular functions? Provide an example where a lambda function can be useful.\n",
    "#### Ans\n",
    "Lamda function or anonymous function both are same . The anonymous function is an inline fuction.This anonymous function are created using a lambda operator and can't contain multiple expression .That is not bound to an identifier(def) \n",
    "\n",
    "add = lambda n1,n2,n3: n1+n2+n3"
   ]
  },
  {
   "cell_type": "code",
   "execution_count": 10,
   "id": "f958a39a",
   "metadata": {},
   "outputs": [
    {
     "name": "stdout",
     "output_type": "stream",
     "text": [
      "Sum of these three: 6\n"
     ]
    }
   ],
   "source": [
    "add = lambda n1,n2,n3: n1+n2+n3\n",
    "print('Sum of these three:',add(1,2,3))"
   ]
  },
  {
   "cell_type": "markdown",
   "id": "58b1dfb3",
   "metadata": {},
   "source": [
    "### 5. How does the concept of \"scope\" apply to functions in Python? Explain the difference between local scope and global scope.\n",
    "\n",
    "#### Ans\n",
    "The concept of \"scope\" in Python refers to the region of the code where a variable is accessible.Variables declared outside of all functions are known as global variables and in the global scope .A global variable can be accessed from anywhere.Variable decalared inside of function are known as local variables and in the local scope a local variable can be accessed only within the function to access local variable outside the function we use global keyword. "
   ]
  },
  {
   "cell_type": "code",
   "execution_count": 21,
   "id": "31c91939",
   "metadata": {},
   "outputs": [
    {
     "name": "stdout",
     "output_type": "stream",
     "text": [
      "90 1\n",
      "90\n"
     ]
    },
    {
     "ename": "NameError",
     "evalue": "name 'local_scope_y' is not defined",
     "output_type": "error",
     "traceback": [
      "\u001b[1;31m---------------------------------------------------------------------------\u001b[0m",
      "\u001b[1;31mNameError\u001b[0m                                 Traceback (most recent call last)",
      "Input \u001b[1;32mIn [21]\u001b[0m, in \u001b[0;36m<cell line: 7>\u001b[1;34m()\u001b[0m\n\u001b[0;32m      5\u001b[0m func()\n\u001b[0;32m      6\u001b[0m \u001b[38;5;28mprint\u001b[39m(global_scope_x)\n\u001b[1;32m----> 7\u001b[0m \u001b[38;5;28mprint\u001b[39m(\u001b[43mlocal_scope_y\u001b[49m)\n",
      "\u001b[1;31mNameError\u001b[0m: name 'local_scope_y' is not defined"
     ]
    }
   ],
   "source": [
    "global_scope_x = 90\n",
    "def func():\n",
    "    local_scope_y = 1\n",
    "    print(global_scope_x,local_scope_y)\n",
    "func()\n",
    "print(global_scope_x)\n",
    "print(local_scope_y)"
   ]
  },
  {
   "cell_type": "markdown",
   "id": "23286332",
   "metadata": {},
   "source": [
    "### 6. How can you use the \"return\" statement in a Python function to return multiple values?\n",
    "#### Ans\n",
    "You can use the return statement in a Python function to return multiple values by separating them with commas.\n",
    "\n"
   ]
  },
  {
   "cell_type": "code",
   "execution_count": 26,
   "id": "041d0359",
   "metadata": {},
   "outputs": [
    {
     "name": "stdout",
     "output_type": "stream",
     "text": [
      "1 2 3\n"
     ]
    }
   ],
   "source": [
    "def func():\n",
    "    return 1, 2, 3\n",
    "\n",
    "a, b, c = func()\n",
    "print(a, b, c)"
   ]
  },
  {
   "cell_type": "markdown",
   "id": "f155e9c2",
   "metadata": {},
   "source": [
    "### 7. What is the difference between the \"pass by value\" and \"pass by reference\" concepts when it comes to function arguments in Python?\n",
    "\n",
    "#### Ans\n",
    "Python's function arguments are passed by object reference. This means that if we pass a mutable object to a function and modify it inside the function, the changes will be reflected outside of the function as well. If we pass an immutable object to a function and try to modify it inside the function, a new object will be created and the original object will remain unchanged."
   ]
  },
  {
   "cell_type": "code",
   "execution_count": 29,
   "id": "fd0bd675",
   "metadata": {},
   "outputs": [
    {
     "name": "stdout",
     "output_type": "stream",
     "text": [
      "[1, 2, 3, 0]\n",
      "10\n"
     ]
    }
   ],
   "source": [
    "\n",
    "def func(lst):\n",
    "    lst.append(0)\n",
    "\n",
    "lst = [1, 2, 3]\n",
    "func(lst)\n",
    "print(lst)\n",
    "\n",
    "def func(x):\n",
    "       x = 5\n",
    "\n",
    "b = 10\n",
    "func(b)\n",
    "print(b)\n"
   ]
  },
  {
   "cell_type": "markdown",
   "id": "f8e3ca35",
   "metadata": {},
   "source": [
    "### 8. Create a function that can intake integer or decimal value and do following operations:\n",
    "\n",
    "a. Logarithmic function (log x)\n",
    "\n",
    "b. Exponential function (exp(x))\n",
    "\n",
    "c. Power function with base 2 (2**x)\n",
    "\n",
    "d. Square root"
   ]
  },
  {
   "cell_type": "code",
   "execution_count": 35,
   "id": "d0eef337",
   "metadata": {},
   "outputs": [
    {
     "name": "stdout",
     "output_type": "stream",
     "text": [
      " Logarithmic: 2.4849066497880004\n",
      " Exponential: 162754.79141900392\n",
      "Power function with base 2: 4096\n",
      "Square root: 3.4641016151377544\n"
     ]
    }
   ],
   "source": [
    "import math\n",
    "\n",
    "def func(x):\n",
    "    print(\" Logarithmic:\",math.log(x))\n",
    "    print(\" Exponential:\",math.exp(x))\n",
    "    print(\"Power function with base 2:\" ,2 ** x)\n",
    "    print(\"Square root:\" ,math.sqrt(x))\n",
    "func(12)     "
   ]
  },
  {
   "cell_type": "markdown",
   "id": "867adf85",
   "metadata": {},
   "source": [
    "### 9. Create a function that takes a full name as an argument and returns first name and last name."
   ]
  },
  {
   "cell_type": "code",
   "execution_count": 46,
   "id": "30b4ee5b",
   "metadata": {},
   "outputs": [
    {
     "data": {
      "text/plain": [
       "('vinayak', 'jangir')"
      ]
     },
     "execution_count": 46,
     "metadata": {},
     "output_type": "execute_result"
    }
   ],
   "source": [
    "def fullname(full_name):\n",
    "    first_name,last_name = full_name.split(\" \")\n",
    "    return first_name,last_name\n",
    "fullname('vinayak jangir')"
   ]
  },
  {
   "cell_type": "code",
   "execution_count": null,
   "id": "3a98146d",
   "metadata": {},
   "outputs": [],
   "source": []
  }
 ],
 "metadata": {
  "kernelspec": {
   "display_name": "Python 3 (ipykernel)",
   "language": "python",
   "name": "python3"
  },
  "language_info": {
   "codemirror_mode": {
    "name": "ipython",
    "version": 3
   },
   "file_extension": ".py",
   "mimetype": "text/x-python",
   "name": "python",
   "nbconvert_exporter": "python",
   "pygments_lexer": "ipython3",
   "version": "3.9.12"
  }
 },
 "nbformat": 4,
 "nbformat_minor": 5
}
