{
 "cells": [
  {
   "cell_type": "markdown",
   "id": "d4e9fe21",
   "metadata": {},
   "source": [
    "### 1. What is the role of try and exception block?\n",
    "\n",
    "#### Ans\n",
    "The role of a try and except block in python is to handle error. The code inside the try block is executed, and if an error occurs, it is caught and handled by the except block. This allows the program to gracefully handle errors and prevent the program from crashing."
   ]
  },
  {
   "cell_type": "markdown",
   "id": "3705b2c0",
   "metadata": {},
   "source": [
    "### 2. What is the syntax for a basic try-except block?"
   ]
  },
  {
   "cell_type": "code",
   "execution_count": 6,
   "id": "66c2e806",
   "metadata": {},
   "outputs": [],
   "source": [
    "try:\n",
    "    # Code that may raise an error\n",
    "    pass\n",
    "except ErrorName:\n",
    "    # Code to handle that exception\n",
    "    pass"
   ]
  },
  {
   "cell_type": "markdown",
   "id": "2cd0ca35",
   "metadata": {},
   "source": [
    "### 3. What happens if an exception occurs inside a try block and there is no matching except block?\n",
    "\n",
    "#### Ans\n",
    "If an exception occurs inside a try block and there is no matching except block, the exception will propagate up the call stack until it is caught by an outer try-except block or until it reaches the top-level of the program.\n",
    "\n",
    "If the exception is not caught, the program will terminate and display an error message."
   ]
  },
  {
   "cell_type": "markdown",
   "id": "9e9a2278",
   "metadata": {},
   "source": [
    "### 4. What is the difference between using a bare except block and specifying a specific exception type?\n",
    "#### Ans\n",
    "The difference between using a bare except block and specifying a specific exception type is that a bare except block will catch and handle any type of exception, whereas specifying a specific exception type will only catch and handle exceptions of that particular type. It is generally recommended to specify the specific exception types you want to handle, as catching all exceptions can make it harder to debug and maintain the code."
   ]
  },
  {
   "cell_type": "markdown",
   "id": "adcecb0d",
   "metadata": {},
   "source": [
    "### 5. Can you have nested try-except blocks in Python? If yes, then give an example.\n",
    "\n",
    "#### Ans\n",
    "Yes, nested try-except blocks are allowed in Python."
   ]
  },
  {
   "cell_type": "code",
   "execution_count": 7,
   "id": "e321daf8",
   "metadata": {},
   "outputs": [],
   "source": [
    "try:\n",
    "    # Outer try block\n",
    "    pass\n",
    "    try:\n",
    "        # Inner try block\n",
    "        pass\n",
    "\n",
    "    except ErrorName:\n",
    "        # Handle exception of type ErrorName\n",
    "        pass\n",
    "except ErrorName:\n",
    "    # Handle exception of type ErrorName\n",
    "     pass"
   ]
  },
  {
   "cell_type": "markdown",
   "id": "979c60b2",
   "metadata": {},
   "source": [
    "### 6. Can we use multiple exception blocks, if yes then give an example.\n",
    "\n",
    "#### Ans\n",
    "\n",
    "Yes, we can use multiple except blocks in a try-except block. Each except block can handle a different type of exception.\n",
    "\n",
    "\n",
    "\n",
    "\n",
    "     "
   ]
  },
  {
   "cell_type": "code",
   "execution_count": 8,
   "id": "9f669afb",
   "metadata": {},
   "outputs": [],
   "source": [
    "try:\n",
    "    # Code that is likely to raise an exception\n",
    "    pass\n",
    "except ErrorName1:\n",
    "    # Handle exception of type ErrorName\n",
    "     pass\n",
    "except ErrorName2:\n",
    "    # Handle exception of type ErrorName\n",
    "     pass"
   ]
  },
  {
   "cell_type": "markdown",
   "id": "ea7d18e4",
   "metadata": {},
   "source": [
    "### 7. Write the reason due to which following errors are raised:\n",
    "a. EOFError\n",
    "\n",
    "b. FloatingPointError\n",
    "\n",
    "c. IndexError\n",
    "\n",
    "d. MemoryError\n",
    "\n",
    "e. OverflowError\n",
    "\n",
    "f. TabError\n",
    "\n",
    "g. ValueError\n",
    "\n",
    "#### Ans\n",
    "EOFError: This error is raised when the input() function reaches the end of the file or encounters an unexpected end of input.\n",
    "\n",
    "FloatingPointError: This error is raised when a floating-point operation fails to produce a valid result, such as division by zero or an overflow/underflow condition.\n",
    "\n",
    "IndexError: This error is raised when trying to access an index that is out of range in a sequence (e.g., list, tuple, string).\n",
    "\n",
    "MemoryError: This error is raised when the program runs out of memory to allocate for new objects.\n",
    "\n",
    "OverflowError: This error is raised when a calculation exceeds the maximum limit of a numeric type.\n",
    "\n",
    "TabError: This error is raised when there is an incorrect indentation or mixing of tabs and spaces in the code.\n",
    "\n",
    "ValueError: This error is raised when a function receives an argument of the correct type but an invalid value"
   ]
  },
  {
   "cell_type": "markdown",
   "id": "286e68ab",
   "metadata": {},
   "source": [
    "### 8. Write code for the following given scenario and add try-exception block to it.\n",
    "\n",
    "a. Program to divide two numbers\n",
    "\n",
    "b. Program to convert a string to an integer\n",
    "\n",
    "c. Program to access an element in a list\n",
    "\n",
    "d. Program to handle a specific exception\n",
    "\n",
    "e. Program to handle any exception"
   ]
  },
  {
   "cell_type": "code",
   "execution_count": 23,
   "id": "c103e412",
   "metadata": {},
   "outputs": [
    {
     "name": "stdout",
     "output_type": "stream",
     "text": [
      "Enter first number:0\n",
      "Enter second number:g\n",
      "Alphabet can't divide\n"
     ]
    }
   ],
   "source": [
    "# Program to divide two numbers\n",
    "def div():\n",
    "    try:\n",
    "        num1 = int(input(\"Enter first number:\"))\n",
    "        num2 = int(input(\"Enter second number:\")) \n",
    "        div = num1/num2\n",
    "        print(div)\n",
    "    except ZeroDivisionError:\n",
    "        print(\"No Result , Because you divide a number to 0\")\n",
    "    except ValueError:\n",
    "        print(\"Alphabet can't divide\")\n",
    "div()"
   ]
  },
  {
   "cell_type": "code",
   "execution_count": 20,
   "id": "6f05b1ef",
   "metadata": {},
   "outputs": [
    {
     "name": "stdout",
     "output_type": "stream",
     "text": [
      "Enter first number:df\n"
     ]
    },
    {
     "data": {
      "text/plain": [
       "\"Alphabet can't change to integer\""
      ]
     },
     "execution_count": 20,
     "metadata": {},
     "output_type": "execute_result"
    }
   ],
   "source": [
    "# Program to convert a string to an integer\n",
    "def change_datatype():\n",
    "    try:\n",
    "        user_input = input(\"Enter first number:\")\n",
    "        change_dtype = int(user_input)\n",
    "    except ValueError:\n",
    "        return \"Alphabet can't change to integer\"\n",
    "change_datatype()"
   ]
  },
  {
   "cell_type": "code",
   "execution_count": 25,
   "id": "711b9add",
   "metadata": {},
   "outputs": [
    {
     "name": "stdout",
     "output_type": "stream",
     "text": [
      "Enter an index: d\n"
     ]
    },
    {
     "data": {
      "text/plain": [
       "\"Can't acess list with alphabet\""
      ]
     },
     "execution_count": 25,
     "metadata": {},
     "output_type": "execute_result"
    }
   ],
   "source": [
    "#Program to access an element in a list\n",
    "def access_list():\n",
    "    try:\n",
    "        my_list = [1, 2, 3]\n",
    "        index = int(input(\"Enter an index: \"))\n",
    "        element = my_list[index]\n",
    "        print(\"Element:\", element)\n",
    "    except IndexError:\n",
    "        print(\"Error: Index out of range.\")\n",
    "    except ValueError:\n",
    "        return \"Can't acess list with alphabet\"\n",
    "access_list()"
   ]
  },
  {
   "cell_type": "code",
   "execution_count": 26,
   "id": "6d79ccaa",
   "metadata": {},
   "outputs": [],
   "source": [
    "# Program to handle a specific exception\n",
    "\n",
    "try:\n",
    "    # Code that may raise a specific error\n",
    "    pass\n",
    "\n",
    "except SpecificExceptionType:\n",
    "    # Handle the specific error\n",
    "    pass\n",
    "     \n"
   ]
  },
  {
   "cell_type": "code",
   "execution_count": 29,
   "id": "f959751e",
   "metadata": {},
   "outputs": [
    {
     "name": "stdout",
     "output_type": "stream",
     "text": [
      "Enter first number:1\n",
      "Enter second number:r\n",
      "No Result! , Because you divide a number to 0 invalid literal for int() with base 10: 'r'\n"
     ]
    }
   ],
   "source": [
    "# Program to handle any exception\n",
    "def div1():\n",
    "    try:\n",
    "        num1 = int(input(\"Enter first number:\"))\n",
    "        num2 = int(input(\"Enter second number:\")) \n",
    "        div = num1/num2\n",
    "        print(div)\n",
    "    except Exception as e:\n",
    "        print(\"No Result! , Because you divide a number to 0\",e)\n",
    "div1()"
   ]
  },
  {
   "cell_type": "code",
   "execution_count": null,
   "id": "c2cbc082",
   "metadata": {},
   "outputs": [],
   "source": []
  }
 ],
 "metadata": {
  "kernelspec": {
   "display_name": "Python 3 (ipykernel)",
   "language": "python",
   "name": "python3"
  },
  "language_info": {
   "codemirror_mode": {
    "name": "ipython",
    "version": 3
   },
   "file_extension": ".py",
   "mimetype": "text/x-python",
   "name": "python",
   "nbconvert_exporter": "python",
   "pygments_lexer": "ipython3",
   "version": "3.9.12"
  }
 },
 "nbformat": 4,
 "nbformat_minor": 5
}
