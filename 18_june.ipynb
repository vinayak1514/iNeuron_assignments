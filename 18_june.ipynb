{
 "cells": [
  {
   "cell_type": "markdown",
   "id": "cde4b743",
   "metadata": {},
   "source": [
    "### 1. What is the role of the 'else' block in a try-except statement? Provide an example scenario where it would be useful.\n",
    "\n",
    "#### Ans\n",
    "The else block in a try-except statement is an optional block of code that is executed if no exceptions are raised in the try block. This means that if no exceptions occur, the code in the else block is executed.\n",
    "\n",
    "The else block is useful for performing actions that should only occur if no exceptions have been raised, such as printing a success message or updating a database."
   ]
  },
  {
   "cell_type": "code",
   "execution_count": 9,
   "id": "9ca3d342",
   "metadata": {},
   "outputs": [
    {
     "name": "stdout",
     "output_type": "stream",
     "text": [
      "Enter first number:9\n",
      "Enter second number:3\n",
      "Result=3.0\n"
     ]
    }
   ],
   "source": [
    "try:\n",
    "    x = int(input(\"Enter first number:\"))\n",
    "    y = int(input(\"Enter second number:\"))\n",
    "    result = x / y\n",
    "except ZeroDivisionError:\n",
    "    print(\"Error: Cannot divide by zero\")\n",
    "else:\n",
    "    print(f\"Result={result}\")"
   ]
  },
  {
   "cell_type": "markdown",
   "id": "882c69d2",
   "metadata": {},
   "source": [
    "### 2. Can a try-except block be nested inside another try-except block? Explain with an example.\n",
    "\n",
    "#### Ans\n",
    "Yes, a try-except block can be nested inside another try-except block. This is known as nested exception handling. It allows for handling different types of errors at different levels of code.\n",
    "\n",
    "The inner try-except block handles the ZeroDivisionError, and the outer try-except block handles any other error that may occur."
   ]
  },
  {
   "cell_type": "code",
   "execution_count": 10,
   "id": "537cfd3c",
   "metadata": {},
   "outputs": [
    {
     "name": "stdout",
     "output_type": "stream",
     "text": [
      "Enter first number:1\n",
      "Enter second number:o\n",
      "Error: Cannot divide by alphabet\n"
     ]
    }
   ],
   "source": [
    "try:\n",
    "    try:\n",
    "        x = int(input(\"Enter first number:\"))\n",
    "        y = int(input(\"Enter second number:\"))\n",
    "        result = x / y\n",
    "    except ZeroDivisionError:\n",
    "        print(\"Error: Cannot divide by zero\")\n",
    "except ValueError:\n",
    "    print('Error: Cannot divide by alphabet')"
   ]
  },
  {
   "cell_type": "markdown",
   "id": "1faf142a",
   "metadata": {},
   "source": [
    "### 3. How can you create a custom exception class in Python? Provide an example that demonstrates its usage.\n",
    "To create a custom exception class in python, we can define a new class that inherits from the built-in Exception class or any of its subclasses.\n",
    "\n",
    "we define a custom exception class called CustomException that inherits from the base Exception class. We then raise an instance of this custom exception and catch it using an except block."
   ]
  },
  {
   "cell_type": "code",
   "execution_count": 12,
   "id": "243b2d50",
   "metadata": {},
   "outputs": [
    {
     "name": "stdout",
     "output_type": "stream",
     "text": [
      "Enter a number: 3\n",
      "Error: Invalid Age\n"
     ]
    }
   ],
   "source": [
    "class InvalidAgeException(Exception):\n",
    "    \"Raised when the input value is less than 18\"\n",
    "    pass\n",
    "\n",
    "number = 18\n",
    "\n",
    "try:\n",
    "    input_num = int(input(\"Enter a number: \"))\n",
    "    if input_num < number:\n",
    "        raise InvalidAgeException\n",
    "    else:\n",
    "        print(\"Eligible to Vote\")\n",
    "        \n",
    "except InvalidAgeException:\n",
    "    print(\"Error: Invalid Age\")"
   ]
  },
  {
   "cell_type": "markdown",
   "id": "3c3d6a5d",
   "metadata": {},
   "source": [
    "### 4. What are some common exceptions that are built-in to Python?\n",
    "\n",
    "#### Ans\n",
    "* ZeroDivisionError: Raised when dividing by zero\n",
    "\n",
    "* EOFError: This error is raised when the input() function reaches the end of the file or encounters an unexpected end of input.\n",
    "\n",
    "* IndexError: This error is raised when trying to access an index that is out of range in a sequence (e.g., list, tuple, string).\n",
    "\n",
    "* SyntaxError:Syntax errors occur when you have a typo or other mistake in your code that causes it to be invalid syntax\n",
    "\n",
    "* IndentationError:Python uses whitespace to indicate blocks of code, so proper indentation is critical.\n",
    "\n",
    "* NameError:Name errors occur when you try to use a variable or function that hasn't been defined"
   ]
  },
  {
   "cell_type": "markdown",
   "id": "b7863659",
   "metadata": {},
   "source": [
    "### 5. What is logging in Python, and why is it important in software development?\n",
    "#### Ans\n",
    "\n",
    "Logging is a technique used to record events or messages during the execution of a program. It allows developers to track the flow of their code, debug issues, and monitor the application's behavior. Logging is important in software development because it provides a systematic way to collect and analyze information about the program's execution."
   ]
  },
  {
   "cell_type": "markdown",
   "id": "08e44280",
   "metadata": {},
   "source": [
    "### 6. Explain the purpose of log levels in Python logging and provide examples of when each log level would be appropriate.\n",
    "\n",
    "#### Ans\n",
    "Log levels are used to categorize log messages based on their severity.\n",
    "\n",
    "\n",
    "* DEBUG: Detailed information, typically used for debugging purposes\n",
    "* INFO - It provides the information regarding that things are working as we want.\n",
    "* WARNING - It is used to warn that something happened unexpectedly, or we will face the problem in the upcoming time.\n",
    "* ERROR - It is used to inform when we are in some serious trouble, the software hasn't executed some programs.\n",
    "* CRITICAL - It specifies the serious error, the program itself may be incapable of remaining executing."
   ]
  },
  {
   "cell_type": "markdown",
   "id": "f458069c",
   "metadata": {},
   "source": [
    "### 7. What are log formatters in Python logging, and how can you customise the log message format using formatters?\n",
    "#### Ans\n",
    "Log formatters are used to customize the format of log messages. They define the structure and content of the log output. Python's logging module provides various built-in formatters, such as logging.Formatter, which allows you to specify the format using placeholders and formatting codes."
   ]
  },
  {
   "cell_type": "code",
   "execution_count": 17,
   "id": "26e7ba00",
   "metadata": {},
   "outputs": [
    {
     "name": "stderr",
     "output_type": "stream",
     "text": [
      "INFO:my_logger:This is an info message\n"
     ]
    }
   ],
   "source": [
    "import logging\n",
    "\n",
    "logger = logging.getLogger(\"my_logger\")\n",
    "logger.setLevel(logging.INFO)\n",
    "\n",
    "formatter = logging.Formatter(\"%(asctime)s - %(levelname)s - %(message)s\")\n",
    "\n",
    "file_handler = logging.FileHandler(\"app.log\")\n",
    "file_handler.setFormatter(formatter)\n",
    "\n",
    "logger.addHandler(file_handler)\n",
    "\n",
    "logger.info('This is an info message')\n"
   ]
  },
  {
   "cell_type": "code",
   "execution_count": null,
   "id": "719dcbc2",
   "metadata": {},
   "outputs": [],
   "source": [
    "\n",
    "logger.debug('This is a debug message')\n",
    "logger.warning('This is a warning message')\n",
    "logger.error('This is an error message')\n",
    "logger.critical('This is a critical message')"
   ]
  },
  {
   "cell_type": "markdown",
   "id": "02e2ec54",
   "metadata": {},
   "source": [
    "### 8. How can you set up logging to capture log messages from multiple modules or classes in a Python application?\n",
    "#### Ans\n",
    "To capture log messages from multiple modules or classes in an application, we can use a hierarchical logger structure. Each module or class can has its own logger, and loggers can be organized in a hierarchy based on their names. This allows for more control over logging and enables capturing logs from specific modules or classes."
   ]
  },
  {
   "cell_type": "code",
   "execution_count": 18,
   "id": "8a96aba7",
   "metadata": {},
   "outputs": [
    {
     "name": "stderr",
     "output_type": "stream",
     "text": [
      "DEBUG:module1:Debug msg from module1\n",
      "INFO:module1:Info msg from module1\n",
      "INFO:module2:Info msg from module2\n",
      "WARNING:module2:Warning msg from module2\n"
     ]
    }
   ],
   "source": [
    "import logging\n",
    "\n",
    "module1_logger = logging.getLogger(\"module1\")\n",
    "module1_logger.setLevel(logging.DEBUG)\n",
    "\n",
    "module2_logger = logging.getLogger(\"module2\")\n",
    "module2_logger.setLevel(logging.INFO)\n",
    "\n",
    "module1_file_handler = logging.FileHandler(\"module1.log\")\n",
    "module1_logger.addHandler(module1_file_handler)\n",
    "\n",
    "module2_file_handler = logging.FileHandler(\"module2.log\")\n",
    "module2_logger.addHandler(module2_file_handler)\n",
    "\n",
    "module1_logger.debug(\"Debug msg from module1\")\n",
    "module1_logger.info(\"Info msg from module1\")\n",
    "\n",
    "module2_logger.info(\"Info msg from module2\")\n",
    "module2_logger.warning(\"Warning msg from module2\")"
   ]
  },
  {
   "cell_type": "markdown",
   "id": "9bacaae4",
   "metadata": {},
   "source": [
    "### 9. What is the difference between the logging and print statements in Python? When should you use logging over print statements in a real-world application?\n",
    "#### Ans\n",
    "The main difference between the logging and print statements is their purpose and functionality. The print statement is primarily used for displaying information to the console or standard output, while logging is used for recording events or messages during the execution of a program.\n",
    "\n",
    "In a real-world application, it is generally recommended to use logging over print statements for several reasons:\n",
    "\n",
    "* Logging provides more flexibility and control over the output, allowing us to specify different log levels, log to different destinations, and customize the log message format.\n",
    "* Logging can be easily enabled or disabled based on the log level, allowing us to control the output.\n",
    "* Logging allows us to capture and analyze the program's execution flow, making it easier to debug issues and monitor the application's behavior.\n",
    "* Logging messages can be categorized and filtered based on their severity, making it easier to identify and prioritize issues.\n"
   ]
  },
  {
   "cell_type": "markdown",
   "id": "13c98c1a",
   "metadata": {},
   "source": [
    "### 10. Write a Python program that logs a message to a file named \"app.log\" with the following requirements:\n",
    "##### The log message should be \"Hello, World!\"\n",
    "##### The log level should be set to \"INFO.\"\n",
    "##### The log file should append new log entries without overwriting previous ones.\n",
    "\n"
   ]
  },
  {
   "cell_type": "code",
   "execution_count": 19,
   "id": "da64ab11",
   "metadata": {},
   "outputs": [
    {
     "name": "stderr",
     "output_type": "stream",
     "text": [
      "INFO:my_logger:Hello, World\n"
     ]
    }
   ],
   "source": [
    "import logging\n",
    "\n",
    "logger = logging.getLogger(\"my_logger\")\n",
    "logger.setLevel(logging.INFO)\n",
    "\n",
    "file_handler = logging.FileHandler(\"app.log\")\n",
    "file_handler.setLevel(logging.INFO)\n",
    "\n",
    "formatter = logging.Formatter(\"%(message)s\")\n",
    "\n",
    "file_handler.setFormatter(formatter)\n",
    "\n",
    "logger.addHandler(file_handler)\n",
    "\n",
    "logger.info(\"Hello, World\")"
   ]
  },
  {
   "cell_type": "markdown",
   "id": "aa399313",
   "metadata": {},
   "source": [
    "### 11. Create a Python program that logs an error message to the console and a file named \"errors.log\" if an exception occurs during the program's execution. The error message should include the exception type and a timestamp."
   ]
  },
  {
   "cell_type": "code",
   "execution_count": 20,
   "id": "764ebc43",
   "metadata": {},
   "outputs": [
    {
     "name": "stderr",
     "output_type": "stream",
     "text": [
      "2023-08-07 10:31:21,146 - ERROR - An exception occurred: division by zero\n",
      "ERROR:error_logger:An exception occurred: division by zero\n"
     ]
    }
   ],
   "source": [
    "import logging\n",
    "import datetime\n",
    "\n",
    "logger = logging.getLogger(\"error_logger\")\n",
    "logger.setLevel(logging.ERROR)\n",
    "\n",
    "console_handler = logging.StreamHandler()\n",
    "console_handler.setLevel(logging.ERROR)\n",
    "\n",
    "file_handler = logging.FileHandler(\"errors.log\")\n",
    "file_handler.setLevel(logging.ERROR)\n",
    "\n",
    "formatter = logging.Formatter(\"%(asctime)s - %(levelname)s - %(message)s\")\n",
    "\n",
    "console_handler.setFormatter(formatter)\n",
    "file_handler.setFormatter(formatter)\n",
    "\n",
    "logger.addHandler(console_handler)\n",
    "logger.addHandler(file_handler)\n",
    "\n",
    "try:\n",
    "    result = 10 / 0\n",
    "except Exception as e:\n",
    "\n",
    "    logger.error(f\"An exception occurred: {str(e)}\")"
   ]
  },
  {
   "cell_type": "code",
   "execution_count": null,
   "id": "4c6c9147",
   "metadata": {},
   "outputs": [],
   "source": []
  }
 ],
 "metadata": {
  "kernelspec": {
   "display_name": "Python 3 (ipykernel)",
   "language": "python",
   "name": "python3"
  },
  "language_info": {
   "codemirror_mode": {
    "name": "ipython",
    "version": 3
   },
   "file_extension": ".py",
   "mimetype": "text/x-python",
   "name": "python",
   "nbconvert_exporter": "python",
   "pygments_lexer": "ipython3",
   "version": "3.9.12"
  }
 },
 "nbformat": 4,
 "nbformat_minor": 5
}
