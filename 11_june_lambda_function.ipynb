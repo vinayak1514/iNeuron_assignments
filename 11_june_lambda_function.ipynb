{
 "cells": [
  {
   "cell_type": "markdown",
   "id": "eab82a8f",
   "metadata": {},
   "source": [
    "### 1. What is a lambda function in Python, and how does it differ from a regular function?\n",
    "#### Ans\n",
    "Lamda function or anonymous function both are same . The anonymous function is an inline fuction.This anonymous function are created using a lambda operator and can't contain multiple expression .That is not bound to an identifier(def)\n",
    "\n",
    "add = lambda n1,n2,n3: n1+n2+n3\n",
    "\n",
    "print(add(1,3,4))"
   ]
  },
  {
   "cell_type": "markdown",
   "id": "e7c9ff4b",
   "metadata": {},
   "source": [
    "### 2. Can a lambda function in Python have multiple arguments? If yes, how can you define and use them?\n",
    "\n",
    "#### Ans\n",
    "Yes, a lambda function can have multiple arguments.\n",
    "\n",
    "multiply = lambda a, b, c: a * b * c."
   ]
  },
  {
   "cell_type": "code",
   "execution_count": 1,
   "id": "4ecd626b",
   "metadata": {},
   "outputs": [],
   "source": [
    "multiply = lambda a, b, c: a * b * c\n",
    "print(multiply(9,2,3))"
   ]
  },
  {
   "cell_type": "markdown",
   "id": "32dd21d7",
   "metadata": {},
   "source": [
    "### 3. How are lambda functions typically used in Python? Provide an example use case.\n",
    "\n",
    "#### Ans\n",
    "They are commonly used for short, throwaway functions where creating a full function using def keyword would be unnecessary. The are one time use functions."
   ]
  },
  {
   "cell_type": "code",
   "execution_count": 2,
   "id": "a6b0e9af",
   "metadata": {},
   "outputs": [],
   "source": [
    "multiply = lambda a, b, c: a * b * c\n",
    "print(multiply(2, 3, 10))"
   ]
  },
  {
   "cell_type": "markdown",
   "id": "115dd3cd",
   "metadata": {},
   "source": [
    "### 4. What are the advantages and limitations of lambda functions compared to regular functions in Python?\n",
    "#### Ans\n",
    "##### Advantages of lambda functions:\n",
    "\n",
    "* Lambda functions allow us to write functions in a more readable manner.\n",
    "* Lambda functions don't require a name, making them good for one-time use.\n",
    "* Lambda functions can be easily be passed as arguments to other functions.\n",
    "\n",
    "##### Limitations of lambda functions:\n",
    "\n",
    "* Lambda functions are restricted to a single expression and cannot contain statements or multiple lines of code.\n",
    "* Since lambda functions are anonymous, they don't have docstrings, making them less self-explanatory"
   ]
  },
  {
   "cell_type": "markdown",
   "id": "77d24f3b",
   "metadata": {},
   "source": [
    "### 5. Are lambda functions in Python able to access variables defined outside of their own scope? Explain with an example.\n",
    "#### Ans\n",
    "Yes, lambda functions in Python can access variables defined outside of their own scope. It's known as variable capture.\n",
    "\n",
    "\n"
   ]
  },
  {
   "cell_type": "code",
   "execution_count": 3,
   "id": "8d7fc54c",
   "metadata": {},
   "outputs": [
    {
     "name": "stdout",
     "output_type": "stream",
     "text": [
      "21\n"
     ]
    }
   ],
   "source": [
    "def add_num():\n",
    "    x = 14\n",
    "    return lambda y: x + y\n",
    "\n",
    "lambda_fun = add_num()\n",
    "print(lambda_fun(7))"
   ]
  },
  {
   "cell_type": "markdown",
   "id": "fc4d6c72",
   "metadata": {},
   "source": [
    "### 6. Write a lambda function to calculate the square of a given number."
   ]
  },
  {
   "cell_type": "code",
   "execution_count": 4,
   "id": "ab20a721",
   "metadata": {},
   "outputs": [
    {
     "data": {
      "text/plain": [
       "81"
      ]
     },
     "execution_count": 4,
     "metadata": {},
     "output_type": "execute_result"
    }
   ],
   "source": [
    "square = lambda x: x**2\n",
    "number = 9\n",
    "square(number)"
   ]
  },
  {
   "cell_type": "markdown",
   "id": "8d8e6e65",
   "metadata": {},
   "source": [
    "### 7. Create a lambda function to find the maximum value in a list of integers."
   ]
  },
  {
   "cell_type": "code",
   "execution_count": 5,
   "id": "79428a0b",
   "metadata": {},
   "outputs": [
    {
     "name": "stdout",
     "output_type": "stream",
     "text": [
      "442\n"
     ]
    }
   ],
   "source": [
    "int_list = [45,8,2,25,45,254,5,45,2,5,442,2,5,12,6,45,321,64,3,1,65,]\n",
    "max_value = lambda lst: max(int_list)\n",
    "print(max_value(int_list))"
   ]
  },
  {
   "cell_type": "markdown",
   "id": "6ebbf34f",
   "metadata": {},
   "source": [
    "### 8. Implement a lambda function to filter out all the even numbers from a list of integers."
   ]
  },
  {
   "cell_type": "code",
   "execution_count": 6,
   "id": "e03be78e",
   "metadata": {},
   "outputs": [
    {
     "data": {
      "text/plain": [
       "[8, 2, 254, 2, 442, 2, 12, 6, 64]"
      ]
     },
     "execution_count": 6,
     "metadata": {},
     "output_type": "execute_result"
    }
   ],
   "source": [
    "int_list = [45,8,2,25,45,254,5,45,2,5,442,2,5,12,6,45,321,64,3,1,65,]\n",
    "even_number = lambda lst: list(filter(lambda x:x%2==0,int_list))\n",
    "even_number(int_list)"
   ]
  },
  {
   "cell_type": "markdown",
   "id": "9510949f",
   "metadata": {},
   "source": [
    "### 9. Write a lambda function to sort a list of strings in ascending order based on the length of each string."
   ]
  },
  {
   "cell_type": "code",
   "execution_count": 7,
   "id": "6079ab9b",
   "metadata": {},
   "outputs": [
    {
     "name": "stdout",
     "output_type": "stream",
     "text": [
      "['Car', 'Fish', 'Whale', 'Queen', 'Tiger', 'X-ray', 'Banana', 'Rabbit', 'Monkey', 'Elephant', 'Jellyfish']\n"
     ]
    }
   ],
   "source": [
    "str_list = [\"Whale\", \"Fish\", \"Queen\", \"Tiger\", \"Elephant\", \"Banana\", \"X-ray\", \"Rabbit\", \"Monkey\", \"Car\", \"Jellyfish\",]\n",
    "sort_list= lambda lst: sorted(lst, key=lambda x: len(x))\n",
    "print(sort_list(str_list))"
   ]
  },
  {
   "cell_type": "markdown",
   "id": "d72bbd71",
   "metadata": {},
   "source": [
    "### 10. Create a lambda function that takes two lists as input and returns a new list containing the common elements between the two lists."
   ]
  },
  {
   "cell_type": "code",
   "execution_count": 8,
   "id": "1c286b58",
   "metadata": {},
   "outputs": [
    {
     "data": {
      "text/plain": [
       "[6, 7, 8]"
      ]
     },
     "execution_count": 8,
     "metadata": {},
     "output_type": "execute_result"
    }
   ],
   "source": [
    "list_1 = [7,1,2,26,5,8,8,5,24,6]\n",
    "list_2 = [4, 25, 6, 7, 8]\n",
    "\n",
    "comman_list = lambda lst1, lst2: list(filter(lambda x: x in lst1, lst2))\n",
    "comman_list(list_1,list_2)"
   ]
  },
  {
   "cell_type": "markdown",
   "id": "1be1a28b",
   "metadata": {},
   "source": [
    "### 11. Write a recursive function to calculate the factorial of a given positive integer."
   ]
  },
  {
   "cell_type": "code",
   "execution_count": 3,
   "id": "63281ae4",
   "metadata": {},
   "outputs": [
    {
     "data": {
      "text/plain": [
       "120"
      ]
     },
     "execution_count": 3,
     "metadata": {},
     "output_type": "execute_result"
    }
   ],
   "source": [
    "def factorial_number(num):\n",
    "        if num == 0 or num == 1:\n",
    "            return 1\n",
    "        else:\n",
    "            fac = 1\n",
    "            while num>0:\n",
    "                fac = fac* num\n",
    "                num-=1\n",
    "            return fac\n",
    "\n",
    "factorial_number(5)"
   ]
  },
  {
   "cell_type": "markdown",
   "id": "3b669a88",
   "metadata": {},
   "source": [
    "### 12. Implement a recursive function to compute the nth Fibonacci number."
   ]
  },
  {
   "cell_type": "code",
   "execution_count": 13,
   "id": "86cdddc5",
   "metadata": {},
   "outputs": [
    {
     "data": {
      "text/plain": [
       "8"
      ]
     },
     "execution_count": 13,
     "metadata": {},
     "output_type": "execute_result"
    }
   ],
   "source": [
    "def fibonacci(n):\n",
    "    if n <=0:\n",
    "        return None\n",
    "    if n == 1:\n",
    "        return 0\n",
    "    if n == 2:\n",
    "        return 1\n",
    "   \n",
    "    return fibonacci(n-1)+fibonacci(n-2)\n",
    "fibonacci(7)"
   ]
  },
  {
   "cell_type": "markdown",
   "id": "dccdc83b",
   "metadata": {},
   "source": [
    "### 13. Create a recursive function to find the sum of all the elements in a given list."
   ]
  },
  {
   "cell_type": "code",
   "execution_count": 20,
   "id": "e037f0de",
   "metadata": {},
   "outputs": [
    {
     "name": "stdout",
     "output_type": "stream",
     "text": [
      "Some of whole list is 24\n"
     ]
    }
   ],
   "source": [
    "def sum_of_list(lst):\n",
    "    sum = 0 \n",
    "    for i in lst:\n",
    "        sum+=i\n",
    "    return f\"Some of whole list is {sum}\" \n",
    "sum_list = [1, 2, 3, 4, 5, 6,3]\n",
    "result = sum_of_list(sum_list)\n",
    "print(result)"
   ]
  },
  {
   "cell_type": "markdown",
   "id": "72874701",
   "metadata": {},
   "source": [
    "### 14. Write a recursive function to determine whether a given string is a palindrome."
   ]
  },
  {
   "cell_type": "code",
   "execution_count": 79,
   "id": "1b42b71e",
   "metadata": {},
   "outputs": [
    {
     "data": {
      "text/plain": [
       "True"
      ]
     },
     "execution_count": 79,
     "metadata": {},
     "output_type": "execute_result"
    }
   ],
   "source": [
    "def is_palindrome(s):\n",
    "    if len(s) < 1:\n",
    "        return True\n",
    "    else:\n",
    "        if s[0] == s[-1]:\n",
    "            return is_palindrome(s[1:-1])\n",
    "        else:\n",
    "            return False\n",
    "is_palindrome('viv')"
   ]
  },
  {
   "cell_type": "markdown",
   "id": "1a85f2ca",
   "metadata": {},
   "source": [
    "### 15. Implement a recursive function to find the greatest common divisor (GCD) of two positive integers."
   ]
  },
  {
   "cell_type": "code",
   "execution_count": 81,
   "id": "26cacdc7",
   "metadata": {},
   "outputs": [
    {
     "data": {
      "text/plain": [
       "1"
      ]
     },
     "execution_count": 81,
     "metadata": {},
     "output_type": "execute_result"
    }
   ],
   "source": [
    "def gcd(a, b):\n",
    "    if b == 0:\n",
    "        return a\n",
    "    else:\n",
    "        return gcd(b, a % b)\n",
    "gcd(12,5)"
   ]
  },
  {
   "cell_type": "code",
   "execution_count": 85,
   "id": "e42c9234",
   "metadata": {},
   "outputs": [
    {
     "name": "stdout",
     "output_type": "stream",
     "text": [
      "False\n"
     ]
    }
   ],
   "source": [
    "x= 'asdf'\n",
    "reverse = x[::-1]\n",
    "if x == reverse:\n",
    "    print(True)\n",
    "else:\n",
    "    print(False)"
   ]
  },
  {
   "cell_type": "code",
   "execution_count": 89,
   "id": "4ece71cc",
   "metadata": {},
   "outputs": [
    {
     "data": {
      "text/plain": [
       "True"
      ]
     },
     "execution_count": 89,
     "metadata": {},
     "output_type": "execute_result"
    }
   ],
   "source": [
    "def is_palindrome(string):\n",
    "    reverse = string[::-1]\n",
    "    if string == reverse:\n",
    "        return True\n",
    "    elif len(string)<=1:\n",
    "        return True\n",
    "    else:\n",
    "        return False\n",
    "is_palindrome('v')"
   ]
  },
  {
   "cell_type": "code",
   "execution_count": null,
   "id": "d2086c65",
   "metadata": {},
   "outputs": [],
   "source": []
  }
 ],
 "metadata": {
  "kernelspec": {
   "display_name": "Python 3 (ipykernel)",
   "language": "python",
   "name": "python3"
  },
  "language_info": {
   "codemirror_mode": {
    "name": "ipython",
    "version": 3
   },
   "file_extension": ".py",
   "mimetype": "text/x-python",
   "name": "python",
   "nbconvert_exporter": "python",
   "pygments_lexer": "ipython3",
   "version": "3.9.12"
  }
 },
 "nbformat": 4,
 "nbformat_minor": 5
}
