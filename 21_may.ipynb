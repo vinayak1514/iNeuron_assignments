{
 "cells": [
  {
   "cell_type": "markdown",
   "id": "49ed77bd",
   "metadata": {},
   "source": [
    "### 1. Create two int type variables, apply addition, subtraction, division and multiplications and store the results in variables. Then print the data in the following format by calling the variables:"
   ]
  },
  {
   "cell_type": "code",
   "execution_count": 5,
   "id": "66dcd242",
   "metadata": {},
   "outputs": [
    {
     "name": "stdout",
     "output_type": "stream",
     "text": [
      "Addition of 12 and 14 is: 26\n",
      "Subtracton of 12 and 14 is: -2\n",
      "Mutliplication of 12 and 14 is: 168\n",
      "Divide of 12 and 14 is: 0.8571428571428571\n"
     ]
    }
   ],
   "source": [
    "num1 = 12\n",
    "num2 = 14\n",
    "\n",
    "add = num1 + num2\n",
    "sub = num1 - num2\n",
    "mul = num1 * num2\n",
    "div = num1 / num2\n",
    "print(f'Addition of {num1} and {num2} is: {add}')\n",
    "print(f'Subtracton of {num1} and {num2} is: {sub}')\n",
    "print(f'Mutliplication of {num1} and {num2} is: {mul}')\n",
    "print(f'Divide of {num1} and {num2} is: {div}')"
   ]
  },
  {
   "cell_type": "markdown",
   "id": "03ddebc0",
   "metadata": {},
   "source": [
    "### 2. What is the difference between the following operators:\n",
    "(i) '/' and '//\"\n",
    "\n",
    "(ii) '**' & '^'\n",
    "#### Ans\n",
    "(i) '/' divides two number, while '//' Divide two numner but given the quotient but remove the decimal place.But in case of negative value it floors the no far form zero\n",
    "\n",
    "(ii) '**' is the exponentiation operator(power), while '^' is the bitwise XOR operator."
   ]
  },
  {
   "cell_type": "code",
   "execution_count": 8,
   "id": "a8ee5140",
   "metadata": {},
   "outputs": [
    {
     "name": "stdout",
     "output_type": "stream",
     "text": [
      "divide: 5.5\n",
      "Floor divide: 5\n",
      "exponentiation operator(power): 4\n",
      "XOR operator: 12\n"
     ]
    }
   ],
   "source": [
    "\n",
    "result = 11 / 2\n",
    "print(\"divide:\",result)\n",
    "\n",
    "result = 11 // 2\n",
    "print(\"Floor divide:\",result)\n",
    "\n",
    "result = 2 ** 2\n",
    "print(\"exponentiation operator(power):\",result)\n",
    "\n",
    "result = 5 ^ 9\n",
    "print(\"XOR operator:\",result)"
   ]
  },
  {
   "cell_type": "markdown",
   "id": "b9afeaef",
   "metadata": {},
   "source": [
    "### 3. List the logical operators.\n",
    "\n",
    "#### Ans\n",
    "\n",
    "* and:- Return true if and only if all the condition are true.Any one false condition make it false.\n",
    "* or:-  Return true if any one among them are true . It will return false if not even one condition is true. \n",
    "* not:- this operator is used to reverse the output of logical condition. This mean some condition is true it will convert it to false and if some condition is false it will make it true."
   ]
  },
  {
   "cell_type": "code",
   "execution_count": 14,
   "id": "f04b16b0",
   "metadata": {},
   "outputs": [
    {
     "name": "stdout",
     "output_type": "stream",
     "text": [
      "This is and_operator: False\n",
      "This is or_operator: True\n",
      "This is not_operator: True\n"
     ]
    }
   ],
   "source": [
    "num1 = 12\n",
    "num2 = 14\n",
    "### and operator\n",
    "and_operator = num1<num2 and num1>num2\n",
    "print('This is and_operator:',and_operator)\n",
    "\n",
    "or_operator = num1<num2 or num1>num2\n",
    "print('This is or_operator:',or_operator)\n",
    "\n",
    "not_operator = not(num1>num2)\n",
    "print('This is not_operator:',not_operator)"
   ]
  },
  {
   "cell_type": "markdown",
   "id": "54b47033",
   "metadata": {},
   "source": [
    "### 4. Explain right shift operator and left shift operator with examples.\n",
    "\n",
    "####  Ans\n",
    "\n",
    "* The right shift operator '>>' shifts the bits of the number to the right and fills 0 on voids left as a result.\n",
    "\n",
    "* The left shift operator '<<' shifts the bits of the number to the left and fills 0 on voids left as a result.     "
   ]
  },
  {
   "cell_type": "code",
   "execution_count": 17,
   "id": "a2873142",
   "metadata": {},
   "outputs": [
    {
     "name": "stdout",
     "output_type": "stream",
     "text": [
      "2\n",
      "80\n"
     ]
    }
   ],
   "source": [
    "## example:\n",
    "\n",
    "# Right shift\n",
    "print(10 >> 2)\n",
    "\n",
    "# Left shift\n",
    "print(20 << 2)"
   ]
  },
  {
   "cell_type": "markdown",
   "id": "23955542",
   "metadata": {},
   "source": [
    "### 5. Create a list containing int type data of length 15. Then write a code to check if 10 is present in the list or not."
   ]
  },
  {
   "cell_type": "code",
   "execution_count": 33,
   "id": "5489450a",
   "metadata": {},
   "outputs": [
    {
     "name": "stdout",
     "output_type": "stream",
     "text": [
      "Given element Exists\n"
     ]
    }
   ],
   "source": [
    "lst = [1, 2, 3, 4, 5, 6, 7, 8, 9, 10, 11, 12, 13, 14, 15]\n",
    "count = 0   # this count given element exists\n",
    "not_found = 0 # this count given element not exists\n",
    "\n",
    "for i in lst:\n",
    "    if i == 10:\n",
    "        count+=1\n",
    "    else:\n",
    "        not_found+=1\n",
    "        \n",
    "if count >0:\n",
    "    print(\"Given element Exists\")\n",
    "else:\n",
    "    print(\"Given element does not exists\")"
   ]
  },
  {
   "cell_type": "code",
   "execution_count": 32,
   "id": "bb7ef9b2",
   "metadata": {},
   "outputs": [
    {
     "name": "stdout",
     "output_type": "stream",
     "text": [
      "Given element Exists.\n"
     ]
    }
   ],
   "source": [
    "lst = [1, 2, 3, 4, 5, 6, 7, 8, 9, 10, 11, 12, 13, 14, 10]\n",
    "\n",
    "if 10 in lst:\n",
    "    print(\"Given element Exists.\")\n",
    "else:\n",
    "    print(\"Given element does not exists\")"
   ]
  },
  {
   "cell_type": "code",
   "execution_count": null,
   "id": "a0f96b1c",
   "metadata": {},
   "outputs": [],
   "source": []
  }
 ],
 "metadata": {
  "kernelspec": {
   "display_name": "Python 3 (ipykernel)",
   "language": "python",
   "name": "python3"
  },
  "language_info": {
   "codemirror_mode": {
    "name": "ipython",
    "version": 3
   },
   "file_extension": ".py",
   "mimetype": "text/x-python",
   "name": "python",
   "nbconvert_exporter": "python",
   "pygments_lexer": "ipython3",
   "version": "3.9.12"
  }
 },
 "nbformat": 4,
 "nbformat_minor": 5
}
